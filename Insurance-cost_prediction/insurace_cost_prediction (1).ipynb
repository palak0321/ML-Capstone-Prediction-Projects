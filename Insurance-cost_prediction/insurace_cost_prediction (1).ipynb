{
 "cells": [
  {
   "cell_type": "markdown",
   "id": "9b149283-c2c2-4b16-827a-3ce6d797343c",
   "metadata": {},
   "source": [
    "# INSURANCE COST PREDICTION"
   ]
  },
  {
   "cell_type": "markdown",
   "id": "f88378c3-0d32-43c0-93be-cdbba9190622",
   "metadata": {},
   "source": [
    "Insurance cost prediction is a critical application of data science and machine learning aimed at estimating the premium or cost associated with insurance policies for individuals or groups. By leveraging historical data and advanced algorithms, insurance companies can accurately predict future costs, streamline operations, and offer competitive pricing to customers."
   ]
  },
  {
   "cell_type": "markdown",
   "id": "65b5fa36-eb2b-4042-8ec0-805e498c592f",
   "metadata": {},
   "source": [
    "## Import Libraries"
   ]
  },
  {
   "cell_type": "code",
   "execution_count": 322,
   "id": "eb0d4cef-12e7-4caa-9e3c-69c5d5e6c66e",
   "metadata": {},
   "outputs": [],
   "source": [
    "import numpy as np\n",
    "import pandas as pd\n",
    "import matplotlib.pyplot as plt\n",
    "import seaborn as sns\n",
    "import warnings\n",
    "import datetime as dt\n",
    "warnings.filterwarnings(\"ignore\")"
   ]
  },
  {
   "cell_type": "markdown",
   "id": "77b19ed6-7143-4c2b-9056-b5f7466daab0",
   "metadata": {},
   "source": [
    "## Load Dataset"
   ]
  },
  {
   "cell_type": "code",
   "execution_count": 242,
   "id": "f7a781a3-b511-4d43-902b-6a7af0f6a9f1",
   "metadata": {},
   "outputs": [],
   "source": [
    "df=pd.read_csv('insurance.csv')"
   ]
  },
  {
   "cell_type": "code",
   "execution_count": 243,
   "id": "2f7f8e14-cc38-4992-bdb3-a6f9cce4830f",
   "metadata": {},
   "outputs": [
    {
     "data": {
      "text/html": [
       "<div>\n",
       "<style scoped>\n",
       "    .dataframe tbody tr th:only-of-type {\n",
       "        vertical-align: middle;\n",
       "    }\n",
       "\n",
       "    .dataframe tbody tr th {\n",
       "        vertical-align: top;\n",
       "    }\n",
       "\n",
       "    .dataframe thead th {\n",
       "        text-align: right;\n",
       "    }\n",
       "</style>\n",
       "<table border=\"1\" class=\"dataframe\">\n",
       "  <thead>\n",
       "    <tr style=\"text-align: right;\">\n",
       "      <th></th>\n",
       "      <th>age</th>\n",
       "      <th>sex</th>\n",
       "      <th>bmi</th>\n",
       "      <th>children</th>\n",
       "      <th>smoker</th>\n",
       "      <th>region</th>\n",
       "      <th>charges</th>\n",
       "    </tr>\n",
       "  </thead>\n",
       "  <tbody>\n",
       "    <tr>\n",
       "      <th>0</th>\n",
       "      <td>19</td>\n",
       "      <td>female</td>\n",
       "      <td>27.900</td>\n",
       "      <td>0</td>\n",
       "      <td>yes</td>\n",
       "      <td>southwest</td>\n",
       "      <td>16884.92400</td>\n",
       "    </tr>\n",
       "    <tr>\n",
       "      <th>1</th>\n",
       "      <td>18</td>\n",
       "      <td>male</td>\n",
       "      <td>33.770</td>\n",
       "      <td>1</td>\n",
       "      <td>no</td>\n",
       "      <td>southeast</td>\n",
       "      <td>1725.55230</td>\n",
       "    </tr>\n",
       "    <tr>\n",
       "      <th>2</th>\n",
       "      <td>28</td>\n",
       "      <td>male</td>\n",
       "      <td>33.000</td>\n",
       "      <td>3</td>\n",
       "      <td>no</td>\n",
       "      <td>southeast</td>\n",
       "      <td>4449.46200</td>\n",
       "    </tr>\n",
       "    <tr>\n",
       "      <th>3</th>\n",
       "      <td>33</td>\n",
       "      <td>male</td>\n",
       "      <td>22.705</td>\n",
       "      <td>0</td>\n",
       "      <td>no</td>\n",
       "      <td>northwest</td>\n",
       "      <td>21984.47061</td>\n",
       "    </tr>\n",
       "    <tr>\n",
       "      <th>4</th>\n",
       "      <td>32</td>\n",
       "      <td>male</td>\n",
       "      <td>28.880</td>\n",
       "      <td>0</td>\n",
       "      <td>no</td>\n",
       "      <td>northwest</td>\n",
       "      <td>3866.85520</td>\n",
       "    </tr>\n",
       "    <tr>\n",
       "      <th>...</th>\n",
       "      <td>...</td>\n",
       "      <td>...</td>\n",
       "      <td>...</td>\n",
       "      <td>...</td>\n",
       "      <td>...</td>\n",
       "      <td>...</td>\n",
       "      <td>...</td>\n",
       "    </tr>\n",
       "    <tr>\n",
       "      <th>1333</th>\n",
       "      <td>50</td>\n",
       "      <td>male</td>\n",
       "      <td>30.970</td>\n",
       "      <td>3</td>\n",
       "      <td>no</td>\n",
       "      <td>northwest</td>\n",
       "      <td>10600.54830</td>\n",
       "    </tr>\n",
       "    <tr>\n",
       "      <th>1334</th>\n",
       "      <td>18</td>\n",
       "      <td>female</td>\n",
       "      <td>31.920</td>\n",
       "      <td>0</td>\n",
       "      <td>no</td>\n",
       "      <td>northeast</td>\n",
       "      <td>2205.98080</td>\n",
       "    </tr>\n",
       "    <tr>\n",
       "      <th>1335</th>\n",
       "      <td>18</td>\n",
       "      <td>female</td>\n",
       "      <td>36.850</td>\n",
       "      <td>0</td>\n",
       "      <td>no</td>\n",
       "      <td>southeast</td>\n",
       "      <td>1629.83350</td>\n",
       "    </tr>\n",
       "    <tr>\n",
       "      <th>1336</th>\n",
       "      <td>21</td>\n",
       "      <td>female</td>\n",
       "      <td>25.800</td>\n",
       "      <td>0</td>\n",
       "      <td>no</td>\n",
       "      <td>southwest</td>\n",
       "      <td>2007.94500</td>\n",
       "    </tr>\n",
       "    <tr>\n",
       "      <th>1337</th>\n",
       "      <td>61</td>\n",
       "      <td>female</td>\n",
       "      <td>29.070</td>\n",
       "      <td>0</td>\n",
       "      <td>yes</td>\n",
       "      <td>northwest</td>\n",
       "      <td>29141.36030</td>\n",
       "    </tr>\n",
       "  </tbody>\n",
       "</table>\n",
       "<p>1338 rows × 7 columns</p>\n",
       "</div>"
      ],
      "text/plain": [
       "      age     sex     bmi  children smoker     region      charges\n",
       "0      19  female  27.900         0    yes  southwest  16884.92400\n",
       "1      18    male  33.770         1     no  southeast   1725.55230\n",
       "2      28    male  33.000         3     no  southeast   4449.46200\n",
       "3      33    male  22.705         0     no  northwest  21984.47061\n",
       "4      32    male  28.880         0     no  northwest   3866.85520\n",
       "...   ...     ...     ...       ...    ...        ...          ...\n",
       "1333   50    male  30.970         3     no  northwest  10600.54830\n",
       "1334   18  female  31.920         0     no  northeast   2205.98080\n",
       "1335   18  female  36.850         0     no  southeast   1629.83350\n",
       "1336   21  female  25.800         0     no  southwest   2007.94500\n",
       "1337   61  female  29.070         0    yes  northwest  29141.36030\n",
       "\n",
       "[1338 rows x 7 columns]"
      ]
     },
     "execution_count": 243,
     "metadata": {},
     "output_type": "execute_result"
    }
   ],
   "source": [
    "df"
   ]
  },
  {
   "cell_type": "markdown",
   "id": "4389437f-ec7c-48eb-9af7-55964fed410e",
   "metadata": {},
   "source": [
    "## Domain Analysis"
   ]
  },
  {
   "cell_type": "markdown",
   "id": "d08bbbd2-5301-4539-873a-21da7d85f6eb",
   "metadata": {},
   "source": [
    " age: age of primary beneficiary\r",
    " \tsex: beneficiary’s gender - female or male ●\tbmi: Body mass index, providing an understanding of body, weights that are relatively high or low relative to height, objective index of body weight (kg / m ^ 2) using the ratio of height to weight, ideally 18.5 to 24. \n",
    "●\tchildren: Number of children covered by health insurance / Number of dependen \r\n",
    "●\tsmoker: Smoking or non-smok g\r\n",
    "●\tregion: the beneficiary's residential area in the US; northeast, southeast, southwest, northw t.\r\n",
    "●\tcharges: Individual medical costs billed by health insurance (to be prediiciary\r\n",
    "urance\r\n",
    "surance\r\n"
   ]
  },
  {
   "cell_type": "markdown",
   "id": "cf9599b4-0cfc-4ef0-919f-1223f5640a44",
   "metadata": {},
   "source": [
    "## Basic Checks"
   ]
  },
  {
   "cell_type": "code",
   "execution_count": 244,
   "id": "987ca185-5522-4a6c-bfe6-72be429c646e",
   "metadata": {},
   "outputs": [
    {
     "data": {
      "text/plain": [
       "(1338, 7)"
      ]
     },
     "execution_count": 244,
     "metadata": {},
     "output_type": "execute_result"
    }
   ],
   "source": [
    "df.shape"
   ]
  },
  {
   "cell_type": "code",
   "execution_count": 245,
   "id": "24a33f9d-b90c-4584-b2c8-0cb3f0aa1b68",
   "metadata": {},
   "outputs": [],
   "source": [
    "# THERE ARE 1338 ROWS AND 7 COLUMNS"
   ]
  },
  {
   "cell_type": "code",
   "execution_count": 246,
   "id": "43bdaa36-8b61-4c5c-ac79-9d28e8299af5",
   "metadata": {},
   "outputs": [
    {
     "data": {
      "text/html": [
       "<div>\n",
       "<style scoped>\n",
       "    .dataframe tbody tr th:only-of-type {\n",
       "        vertical-align: middle;\n",
       "    }\n",
       "\n",
       "    .dataframe tbody tr th {\n",
       "        vertical-align: top;\n",
       "    }\n",
       "\n",
       "    .dataframe thead th {\n",
       "        text-align: right;\n",
       "    }\n",
       "</style>\n",
       "<table border=\"1\" class=\"dataframe\">\n",
       "  <thead>\n",
       "    <tr style=\"text-align: right;\">\n",
       "      <th></th>\n",
       "      <th>age</th>\n",
       "      <th>sex</th>\n",
       "      <th>bmi</th>\n",
       "      <th>children</th>\n",
       "      <th>smoker</th>\n",
       "      <th>region</th>\n",
       "      <th>charges</th>\n",
       "    </tr>\n",
       "  </thead>\n",
       "  <tbody>\n",
       "    <tr>\n",
       "      <th>0</th>\n",
       "      <td>19</td>\n",
       "      <td>female</td>\n",
       "      <td>27.90</td>\n",
       "      <td>0</td>\n",
       "      <td>yes</td>\n",
       "      <td>southwest</td>\n",
       "      <td>16884.9240</td>\n",
       "    </tr>\n",
       "    <tr>\n",
       "      <th>1</th>\n",
       "      <td>18</td>\n",
       "      <td>male</td>\n",
       "      <td>33.77</td>\n",
       "      <td>1</td>\n",
       "      <td>no</td>\n",
       "      <td>southeast</td>\n",
       "      <td>1725.5523</td>\n",
       "    </tr>\n",
       "    <tr>\n",
       "      <th>2</th>\n",
       "      <td>28</td>\n",
       "      <td>male</td>\n",
       "      <td>33.00</td>\n",
       "      <td>3</td>\n",
       "      <td>no</td>\n",
       "      <td>southeast</td>\n",
       "      <td>4449.4620</td>\n",
       "    </tr>\n",
       "  </tbody>\n",
       "</table>\n",
       "</div>"
      ],
      "text/plain": [
       "   age     sex    bmi  children smoker     region     charges\n",
       "0   19  female  27.90         0    yes  southwest  16884.9240\n",
       "1   18    male  33.77         1     no  southeast   1725.5523\n",
       "2   28    male  33.00         3     no  southeast   4449.4620"
      ]
     },
     "execution_count": 246,
     "metadata": {},
     "output_type": "execute_result"
    }
   ],
   "source": [
    "df.head(3)"
   ]
  },
  {
   "cell_type": "code",
   "execution_count": 247,
   "id": "29ff4cc0-f101-480b-86bb-fe8a02689cad",
   "metadata": {},
   "outputs": [
    {
     "data": {
      "text/html": [
       "<div>\n",
       "<style scoped>\n",
       "    .dataframe tbody tr th:only-of-type {\n",
       "        vertical-align: middle;\n",
       "    }\n",
       "\n",
       "    .dataframe tbody tr th {\n",
       "        vertical-align: top;\n",
       "    }\n",
       "\n",
       "    .dataframe thead th {\n",
       "        text-align: right;\n",
       "    }\n",
       "</style>\n",
       "<table border=\"1\" class=\"dataframe\">\n",
       "  <thead>\n",
       "    <tr style=\"text-align: right;\">\n",
       "      <th></th>\n",
       "      <th>age</th>\n",
       "      <th>sex</th>\n",
       "      <th>bmi</th>\n",
       "      <th>children</th>\n",
       "      <th>smoker</th>\n",
       "      <th>region</th>\n",
       "      <th>charges</th>\n",
       "    </tr>\n",
       "  </thead>\n",
       "  <tbody>\n",
       "    <tr>\n",
       "      <th>1335</th>\n",
       "      <td>18</td>\n",
       "      <td>female</td>\n",
       "      <td>36.85</td>\n",
       "      <td>0</td>\n",
       "      <td>no</td>\n",
       "      <td>southeast</td>\n",
       "      <td>1629.8335</td>\n",
       "    </tr>\n",
       "    <tr>\n",
       "      <th>1336</th>\n",
       "      <td>21</td>\n",
       "      <td>female</td>\n",
       "      <td>25.80</td>\n",
       "      <td>0</td>\n",
       "      <td>no</td>\n",
       "      <td>southwest</td>\n",
       "      <td>2007.9450</td>\n",
       "    </tr>\n",
       "    <tr>\n",
       "      <th>1337</th>\n",
       "      <td>61</td>\n",
       "      <td>female</td>\n",
       "      <td>29.07</td>\n",
       "      <td>0</td>\n",
       "      <td>yes</td>\n",
       "      <td>northwest</td>\n",
       "      <td>29141.3603</td>\n",
       "    </tr>\n",
       "  </tbody>\n",
       "</table>\n",
       "</div>"
      ],
      "text/plain": [
       "      age     sex    bmi  children smoker     region     charges\n",
       "1335   18  female  36.85         0     no  southeast   1629.8335\n",
       "1336   21  female  25.80         0     no  southwest   2007.9450\n",
       "1337   61  female  29.07         0    yes  northwest  29141.3603"
      ]
     },
     "execution_count": 247,
     "metadata": {},
     "output_type": "execute_result"
    }
   ],
   "source": [
    "df.tail(3)"
   ]
  },
  {
   "cell_type": "code",
   "execution_count": 248,
   "id": "968504a8-dc97-4f6b-a907-9128f34a0ec7",
   "metadata": {},
   "outputs": [],
   "source": [
    "# THERE ARE 6 INPUT FEATURES: AGE, SEX, BMI, CHILDREN, SMOKER, REGION\n",
    "# THERE IS 1 TARGET COLUMN: CHARGES"
   ]
  },
  {
   "cell_type": "code",
   "execution_count": 249,
   "id": "eaa08531-1d63-4908-941f-97d17cefc3fc",
   "metadata": {},
   "outputs": [],
   "source": [
    "# WE HAVE TO PREDICT CHARGES ACCORDING TO THE INPUT COLUMNS"
   ]
  },
  {
   "cell_type": "code",
   "execution_count": 250,
   "id": "221b8ebc-4da2-43c5-bb4c-0acdc85a7d78",
   "metadata": {},
   "outputs": [
    {
     "name": "stdout",
     "output_type": "stream",
     "text": [
      "<class 'pandas.core.frame.DataFrame'>\n",
      "RangeIndex: 1338 entries, 0 to 1337\n",
      "Data columns (total 7 columns):\n",
      " #   Column    Non-Null Count  Dtype  \n",
      "---  ------    --------------  -----  \n",
      " 0   age       1338 non-null   int64  \n",
      " 1   sex       1338 non-null   object \n",
      " 2   bmi       1338 non-null   float64\n",
      " 3   children  1338 non-null   int64  \n",
      " 4   smoker    1338 non-null   object \n",
      " 5   region    1338 non-null   object \n",
      " 6   charges   1338 non-null   float64\n",
      "dtypes: float64(2), int64(2), object(3)\n",
      "memory usage: 73.3+ KB\n"
     ]
    }
   ],
   "source": [
    "df.info()"
   ]
  },
  {
   "cell_type": "code",
   "execution_count": 251,
   "id": "4566ca16-a206-4790-a18f-93505a12a0db",
   "metadata": {},
   "outputs": [
    {
     "data": {
      "text/html": [
       "<div>\n",
       "<style scoped>\n",
       "    .dataframe tbody tr th:only-of-type {\n",
       "        vertical-align: middle;\n",
       "    }\n",
       "\n",
       "    .dataframe tbody tr th {\n",
       "        vertical-align: top;\n",
       "    }\n",
       "\n",
       "    .dataframe thead th {\n",
       "        text-align: right;\n",
       "    }\n",
       "</style>\n",
       "<table border=\"1\" class=\"dataframe\">\n",
       "  <thead>\n",
       "    <tr style=\"text-align: right;\">\n",
       "      <th></th>\n",
       "      <th>age</th>\n",
       "      <th>bmi</th>\n",
       "      <th>children</th>\n",
       "      <th>charges</th>\n",
       "    </tr>\n",
       "  </thead>\n",
       "  <tbody>\n",
       "    <tr>\n",
       "      <th>count</th>\n",
       "      <td>1338.000000</td>\n",
       "      <td>1338.000000</td>\n",
       "      <td>1338.000000</td>\n",
       "      <td>1338.000000</td>\n",
       "    </tr>\n",
       "    <tr>\n",
       "      <th>mean</th>\n",
       "      <td>39.207025</td>\n",
       "      <td>30.663397</td>\n",
       "      <td>1.094918</td>\n",
       "      <td>13270.422265</td>\n",
       "    </tr>\n",
       "    <tr>\n",
       "      <th>std</th>\n",
       "      <td>14.049960</td>\n",
       "      <td>6.098187</td>\n",
       "      <td>1.205493</td>\n",
       "      <td>12110.011237</td>\n",
       "    </tr>\n",
       "    <tr>\n",
       "      <th>min</th>\n",
       "      <td>18.000000</td>\n",
       "      <td>15.960000</td>\n",
       "      <td>0.000000</td>\n",
       "      <td>1121.873900</td>\n",
       "    </tr>\n",
       "    <tr>\n",
       "      <th>25%</th>\n",
       "      <td>27.000000</td>\n",
       "      <td>26.296250</td>\n",
       "      <td>0.000000</td>\n",
       "      <td>4740.287150</td>\n",
       "    </tr>\n",
       "    <tr>\n",
       "      <th>50%</th>\n",
       "      <td>39.000000</td>\n",
       "      <td>30.400000</td>\n",
       "      <td>1.000000</td>\n",
       "      <td>9382.033000</td>\n",
       "    </tr>\n",
       "    <tr>\n",
       "      <th>75%</th>\n",
       "      <td>51.000000</td>\n",
       "      <td>34.693750</td>\n",
       "      <td>2.000000</td>\n",
       "      <td>16639.912515</td>\n",
       "    </tr>\n",
       "    <tr>\n",
       "      <th>max</th>\n",
       "      <td>64.000000</td>\n",
       "      <td>53.130000</td>\n",
       "      <td>5.000000</td>\n",
       "      <td>63770.428010</td>\n",
       "    </tr>\n",
       "  </tbody>\n",
       "</table>\n",
       "</div>"
      ],
      "text/plain": [
       "               age          bmi     children       charges\n",
       "count  1338.000000  1338.000000  1338.000000   1338.000000\n",
       "mean     39.207025    30.663397     1.094918  13270.422265\n",
       "std      14.049960     6.098187     1.205493  12110.011237\n",
       "min      18.000000    15.960000     0.000000   1121.873900\n",
       "25%      27.000000    26.296250     0.000000   4740.287150\n",
       "50%      39.000000    30.400000     1.000000   9382.033000\n",
       "75%      51.000000    34.693750     2.000000  16639.912515\n",
       "max      64.000000    53.130000     5.000000  63770.428010"
      ]
     },
     "execution_count": 251,
     "metadata": {},
     "output_type": "execute_result"
    }
   ],
   "source": [
    "df.describe()"
   ]
  },
  {
   "cell_type": "code",
   "execution_count": 252,
   "id": "a9b2bd92-2030-45ad-91ef-9b04bbf4c434",
   "metadata": {},
   "outputs": [],
   "source": [
    "# AS WE CAN SEE MINIMUM AGE IS 18 AND MAXIMUM AGE IS 64\n",
    "# THE MINIMUM CHARGES ARE 1121 AND MAXIMUM CHARGES ARE 63770"
   ]
  },
  {
   "cell_type": "code",
   "execution_count": 253,
   "id": "c1f69706-fff6-49fc-843b-233e14c94a03",
   "metadata": {},
   "outputs": [
    {
     "data": {
      "text/plain": [
       "age           int64\n",
       "sex          object\n",
       "bmi         float64\n",
       "children      int64\n",
       "smoker       object\n",
       "region       object\n",
       "charges     float64\n",
       "dtype: object"
      ]
     },
     "execution_count": 253,
     "metadata": {},
     "output_type": "execute_result"
    }
   ],
   "source": [
    "df.dtypes"
   ]
  },
  {
   "cell_type": "code",
   "execution_count": 254,
   "id": "52ca9cb3-c379-4bca-8754-31796af5f036",
   "metadata": {},
   "outputs": [],
   "source": [
    "# TARGET COLUMN IS IN FLOAT DATATYPE\n",
    "# THERE ARE 3 COLUMNS WHICH ARE IN OBJECT DATATYPE: SEX, SMOKER, REGION SO WE HAVE TO CHANGE IN INT DATATYPE"
   ]
  },
  {
   "cell_type": "code",
   "execution_count": 255,
   "id": "11d8bdbe-00bc-4857-82b1-c2276865a8e9",
   "metadata": {},
   "outputs": [
    {
     "data": {
      "text/plain": [
       "array([19, 18, 28, 33, 32, 31, 46, 37, 60, 25, 62, 23, 56, 27, 52, 30, 34,\n",
       "       59, 63, 55, 22, 26, 35, 24, 41, 38, 36, 21, 48, 40, 58, 53, 43, 64,\n",
       "       20, 61, 44, 57, 29, 45, 54, 49, 47, 51, 42, 50, 39], dtype=int64)"
      ]
     },
     "execution_count": 255,
     "metadata": {},
     "output_type": "execute_result"
    }
   ],
   "source": [
    "df['age'].unique()"
   ]
  },
  {
   "cell_type": "code",
   "execution_count": 256,
   "id": "06b45690-f11b-4332-a0e9-e9dc86faac64",
   "metadata": {},
   "outputs": [
    {
     "data": {
      "text/plain": [
       "array([0, 1, 3, 2, 5, 4], dtype=int64)"
      ]
     },
     "execution_count": 256,
     "metadata": {},
     "output_type": "execute_result"
    }
   ],
   "source": [
    "df['children'].unique() "
   ]
  },
  {
   "cell_type": "code",
   "execution_count": 257,
   "id": "5ad8d27a-c1e2-4e75-a188-a3ec2abea6da",
   "metadata": {},
   "outputs": [
    {
     "data": {
      "text/plain": [
       "children\n",
       "0    574\n",
       "1    324\n",
       "2    240\n",
       "3    157\n",
       "4     25\n",
       "5     18\n",
       "Name: count, dtype: int64"
      ]
     },
     "execution_count": 257,
     "metadata": {},
     "output_type": "execute_result"
    }
   ],
   "source": [
    "df['children'].value_counts()"
   ]
  },
  {
   "cell_type": "code",
   "execution_count": 258,
   "id": "56d99099-302e-4f1e-92d4-ee8cd0318f38",
   "metadata": {},
   "outputs": [
    {
     "data": {
      "text/plain": [
       "array(['southwest', 'southeast', 'northwest', 'northeast'], dtype=object)"
      ]
     },
     "execution_count": 258,
     "metadata": {},
     "output_type": "execute_result"
    }
   ],
   "source": [
    "df['region'].unique()"
   ]
  },
  {
   "cell_type": "code",
   "execution_count": 259,
   "id": "ccc319d1-3e8c-4861-929b-a387f8c0a6bf",
   "metadata": {},
   "outputs": [
    {
     "data": {
      "text/plain": [
       "region\n",
       "southeast    364\n",
       "southwest    325\n",
       "northwest    325\n",
       "northeast    324\n",
       "Name: count, dtype: int64"
      ]
     },
     "execution_count": 259,
     "metadata": {},
     "output_type": "execute_result"
    }
   ],
   "source": [
    "df['region'].value_counts()"
   ]
  },
  {
   "cell_type": "code",
   "execution_count": 260,
   "id": "0cfd071e-d344-40be-9d45-1fadf5015541",
   "metadata": {},
   "outputs": [],
   "source": [
    "# THERE ARE MAXIMUM PEOPLE FROM SOUTEAST WHOSE HAVE INSURANCE "
   ]
  },
  {
   "cell_type": "code",
   "execution_count": 261,
   "id": "f8e20565-ee76-4151-91b4-1eb738e70e03",
   "metadata": {},
   "outputs": [
    {
     "data": {
      "text/plain": [
       "sex\n",
       "male      676\n",
       "female    662\n",
       "Name: count, dtype: int64"
      ]
     },
     "execution_count": 261,
     "metadata": {},
     "output_type": "execute_result"
    }
   ],
   "source": [
    "df['sex'].value_counts()"
   ]
  },
  {
   "cell_type": "code",
   "execution_count": 262,
   "id": "3e2121a7-7a9b-4e59-a8ca-78c14e3baec6",
   "metadata": {},
   "outputs": [
    {
     "data": {
      "text/plain": [
       "smoker\n",
       "no     1064\n",
       "yes     274\n",
       "Name: count, dtype: int64"
      ]
     },
     "execution_count": 262,
     "metadata": {},
     "output_type": "execute_result"
    }
   ],
   "source": [
    "df['smoker'].value_counts()"
   ]
  },
  {
   "cell_type": "markdown",
   "id": "954502aa-7285-4069-ae83-2d56f6c285b7",
   "metadata": {},
   "source": [
    "## EDA"
   ]
  },
  {
   "cell_type": "code",
   "execution_count": 263,
   "id": "deef3b1c-7c86-4d69-8421-72d4320ecdce",
   "metadata": {},
   "outputs": [
    {
     "data": {
      "text/plain": [
       "<Axes: title={'center': 'Region vs Charge'}, xlabel='region', ylabel='charges'>"
      ]
     },
     "execution_count": 263,
     "metadata": {},
     "output_type": "execute_result"
    },
    {
     "data": {
      "image/png": "[encoded data removed]",
      "text/plain": [
       "<Figure size 1000x700 with 1 Axes>"
      ]
     },
     "metadata": {},
     "output_type": "display_data"
    }
   ],
   "source": [
    "\n",
    "plt.figure(figsize=(10,7))\n",
    "plt.title('Region vs Charge')\n",
    "sns.barplot(x='region',y='charges',data=df,palette='Set3')"
   ]
  },
  {
   "cell_type": "code",
   "execution_count": 264,
   "id": "d3ef7510-6a40-4e41-91cd-edf25608951f",
   "metadata": {},
   "outputs": [
    {
     "data": {
      "text/plain": [
       "Text(0.5, 1.0, 'BMI VS Charge')"
      ]
     },
     "execution_count": 264,
     "metadata": {},
     "output_type": "execute_result"
    },
    {
     "data": {
      "image/png": "[encoded data removed]",
      "text/plain": [
       "<Figure size 700x500 with 1 Axes>"
      ]
     },
     "metadata": {},
     "output_type": "display_data"
    }
   ],
   "source": [
    "plt.figure(figsize=(7,5))\n",
    "sns.scatterplot(x='bmi',y='charges',hue='sex',data=df,palette='Reds')\n",
    "plt.title('BMI VS Charge')"
   ]
  },
  {
   "cell_type": "code",
   "execution_count": 265,
   "id": "e61032f1-8693-4050-ac78-f154d6a4a1fd",
   "metadata": {},
   "outputs": [
    {
     "data": {
      "text/plain": [
       "<Axes: title={'center': 'Smoker vs Charge'}, xlabel='smoker', ylabel='charges'>"
      ]
     },
     "execution_count": 265,
     "metadata": {},
     "output_type": "execute_result"
    },
    {
     "data": {
      "image/png": "[encoded data removed]",
      "text/plain": [
       "<Figure size 1000x700 with 1 Axes>"
      ]
     },
     "metadata": {},
     "output_type": "display_data"
    }
   ],
   "source": [
    "plt.figure(figsize=(10,7))\n",
    "plt.title('Smoker vs Charge')\n",
    "sns.barplot(x='smoker',y='charges',data=df,palette='Greens',hue='sex')"
   ]
  },
  {
   "cell_type": "code",
   "execution_count": 266,
   "id": "ab79683b-9b84-41d8-a779-b267f2be2d63",
   "metadata": {},
   "outputs": [
    {
     "data": {
      "text/plain": [
       "<Axes: title={'center': 'Sex vs Charges'}, xlabel='sex', ylabel='charges'>"
      ]
     },
     "execution_count": 266,
     "metadata": {},
     "output_type": "execute_result"
    },
    {
     "data": {
      "image/png": "[encoded data removed]",
      "text/plain": [
       "<Figure size 600x400 with 1 Axes>"
      ]
     },
     "metadata": {},
     "output_type": "display_data"
    }
   ],
   "source": [
    "\n",
    "plt.figure(figsize=(6,4))\n",
    "plt.title('Sex vs Charges')\n",
    "sns.barplot(x='sex',y='charges',data=df,palette='Set1')"
   ]
  },
  {
   "cell_type": "code",
   "execution_count": 267,
   "id": "87de9f67-4717-4325-83a2-29700ecce34d",
   "metadata": {},
   "outputs": [],
   "source": [
    "# charges are higher for males as compared to females"
   ]
  },
  {
   "cell_type": "code",
   "execution_count": 268,
   "id": "b3a1add3-b30e-4627-821b-a949aa1962bb",
   "metadata": {},
   "outputs": [
    {
     "data": {
      "text/plain": [
       "Text(0.5, 1.0, 'Age VS Charge')"
      ]
     },
     "execution_count": 268,
     "metadata": {},
     "output_type": "execute_result"
    },
    {
     "data": {
      "image/png": "[encoded data removed]",
      "text/plain": [
       "<Figure size 700x500 with 1 Axes>"
      ]
     },
     "metadata": {},
     "output_type": "display_data"
    }
   ],
   "source": [
    "plt.figure(figsize=(7,5))\n",
    "sns.scatterplot(x='age',y='charges',hue='smoker',data=df,palette='Reds')\n",
    "plt.title('Age VS Charge')"
   ]
  },
  {
   "cell_type": "code",
   "execution_count": 269,
   "id": "baddbcfd-e30a-43d1-8cff-a30133765c68",
   "metadata": {},
   "outputs": [],
   "source": [
    "# we can observe that as the age of a person increases premium prices goes up as well, as well as smokers have higher insurance cost"
   ]
  },
  {
   "cell_type": "code",
   "execution_count": 270,
   "id": "c889a01b-cf85-4374-ab34-d9c385f6c9f6",
   "metadata": {},
   "outputs": [
    {
     "data": {
      "text/plain": [
       "Text(0.5, 1.0, 'Age VS Charge')"
      ]
     },
     "execution_count": 270,
     "metadata": {},
     "output_type": "execute_result"
    },
    {
     "data": {
      "image/png": "[encoded data removed]",
      "text/plain": [
       "<Figure size 700x500 with 1 Axes>"
      ]
     },
     "metadata": {},
     "output_type": "display_data"
    }
   ],
   "source": [
    "plt.figure(figsize=(7,5))\n",
    "sns.barplot(x='region',y='charges',hue='children',data=df,palette='Reds')\n",
    "plt.title('Age VS Charge')"
   ]
  },
  {
   "cell_type": "markdown",
   "id": "d86f4ef0-1fea-43ce-acf9-9ecc669e9bcc",
   "metadata": {},
   "source": [
    "## Data Preprocessing"
   ]
  },
  {
   "cell_type": "code",
   "execution_count": 271,
   "id": "9501d489-5341-4e0c-bbda-a29752346c3d",
   "metadata": {},
   "outputs": [
    {
     "data": {
      "text/plain": [
       "age         0\n",
       "sex         0\n",
       "bmi         0\n",
       "children    0\n",
       "smoker      0\n",
       "region      0\n",
       "charges     0\n",
       "dtype: int64"
      ]
     },
     "execution_count": 271,
     "metadata": {},
     "output_type": "execute_result"
    }
   ],
   "source": [
    "df.isnull().sum()"
   ]
  },
  {
   "cell_type": "code",
   "execution_count": 272,
   "id": "1cc088a9-f4cf-4a58-a960-a4ae998cb0c5",
   "metadata": {},
   "outputs": [],
   "source": [
    "# THERE IS NO NULL VALUES"
   ]
  },
  {
   "cell_type": "code",
   "execution_count": 273,
   "id": "942b4687-b310-446c-a14a-97fd10bc4a59",
   "metadata": {},
   "outputs": [
    {
     "data": {
      "text/plain": [
       "1"
      ]
     },
     "execution_count": 273,
     "metadata": {},
     "output_type": "execute_result"
    }
   ],
   "source": [
    "df.duplicated().sum()"
   ]
  },
  {
   "cell_type": "code",
   "execution_count": 274,
   "id": "1ca6bb3d-1c09-45b9-aa9f-9449427371c2",
   "metadata": {},
   "outputs": [],
   "source": [
    "df.drop_duplicates(inplace=True)"
   ]
  },
  {
   "cell_type": "code",
   "execution_count": 275,
   "id": "2c2fd520-be9b-4250-af08-b6a29ff569fc",
   "metadata": {},
   "outputs": [
    {
     "data": {
      "text/plain": [
       "0"
      ]
     },
     "execution_count": 275,
     "metadata": {},
     "output_type": "execute_result"
    }
   ],
   "source": [
    "df.duplicated().sum()"
   ]
  },
  {
   "cell_type": "code",
   "execution_count": 276,
   "id": "e2e28813-820a-4380-9329-1d15cdfe9035",
   "metadata": {},
   "outputs": [],
   "source": [
    "# THERE IS NO DUPLICATES NOW"
   ]
  },
  {
   "cell_type": "markdown",
   "id": "77e45896-ef87-4b4a-8952-d07021ec7321",
   "metadata": {},
   "source": [
    "### Converting categorical data into numerical"
   ]
  },
  {
   "cell_type": "code",
   "execution_count": 277,
   "id": "23ee6f1b-6913-4e8f-be4d-e35070578025",
   "metadata": {},
   "outputs": [],
   "source": [
    "# THERE ARE 3 COLUMNS WHICH ARE IN OBJECT DATATYPE: SEX, SMOKER, REGION"
   ]
  },
  {
   "cell_type": "code",
   "execution_count": 278,
   "id": "13da0c30-148f-4d4a-8930-7a3e7e2daec2",
   "metadata": {},
   "outputs": [],
   "source": [
    "conv = {'sex': {'male' : 0 , 'female' : 1} ,\n",
    "                 'smoker': {'no': 0 , 'yes' : 1},\n",
    "                   'region' : {'northwest':0, 'northeast':1,'southeast':2,'southwest':3}}"
   ]
  },
  {
   "cell_type": "code",
   "execution_count": 279,
   "id": "e6b14d88-773e-4632-bb62-b70c22c7a4c0",
   "metadata": {},
   "outputs": [
    {
     "data": {
      "text/plain": [
       "{'sex': {'male': 0, 'female': 1},\n",
       " 'smoker': {'no': 0, 'yes': 1},\n",
       " 'region': {'northwest': 0, 'northeast': 1, 'southeast': 2, 'southwest': 3}}"
      ]
     },
     "execution_count": 279,
     "metadata": {},
     "output_type": "execute_result"
    }
   ],
   "source": [
    "conv"
   ]
  },
  {
   "cell_type": "code",
   "execution_count": 280,
   "id": "dc9d159b-05d5-42ea-8b6a-dd0e70989c4e",
   "metadata": {},
   "outputs": [],
   "source": [
    "data = df.copy()\n",
    "data.replace(conv, inplace=True)"
   ]
  },
  {
   "cell_type": "code",
   "execution_count": 281,
   "id": "5ff37917-2e5d-4bbe-a789-23d3468f6b99",
   "metadata": {},
   "outputs": [
    {
     "data": {
      "text/html": [
       "<div>\n",
       "<style scoped>\n",
       "    .dataframe tbody tr th:only-of-type {\n",
       "        vertical-align: middle;\n",
       "    }\n",
       "\n",
       "    .dataframe tbody tr th {\n",
       "        vertical-align: top;\n",
       "    }\n",
       "\n",
       "    .dataframe thead th {\n",
       "        text-align: right;\n",
       "    }\n",
       "</style>\n",
       "<table border=\"1\" class=\"dataframe\">\n",
       "  <thead>\n",
       "    <tr style=\"text-align: right;\">\n",
       "      <th></th>\n",
       "      <th>age</th>\n",
       "      <th>sex</th>\n",
       "      <th>bmi</th>\n",
       "      <th>children</th>\n",
       "      <th>smoker</th>\n",
       "      <th>region</th>\n",
       "      <th>charges</th>\n",
       "    </tr>\n",
       "  </thead>\n",
       "  <tbody>\n",
       "    <tr>\n",
       "      <th>0</th>\n",
       "      <td>19</td>\n",
       "      <td>1</td>\n",
       "      <td>27.900</td>\n",
       "      <td>0</td>\n",
       "      <td>1</td>\n",
       "      <td>3</td>\n",
       "      <td>16884.92400</td>\n",
       "    </tr>\n",
       "    <tr>\n",
       "      <th>1</th>\n",
       "      <td>18</td>\n",
       "      <td>0</td>\n",
       "      <td>33.770</td>\n",
       "      <td>1</td>\n",
       "      <td>0</td>\n",
       "      <td>2</td>\n",
       "      <td>1725.55230</td>\n",
       "    </tr>\n",
       "    <tr>\n",
       "      <th>2</th>\n",
       "      <td>28</td>\n",
       "      <td>0</td>\n",
       "      <td>33.000</td>\n",
       "      <td>3</td>\n",
       "      <td>0</td>\n",
       "      <td>2</td>\n",
       "      <td>4449.46200</td>\n",
       "    </tr>\n",
       "    <tr>\n",
       "      <th>3</th>\n",
       "      <td>33</td>\n",
       "      <td>0</td>\n",
       "      <td>22.705</td>\n",
       "      <td>0</td>\n",
       "      <td>0</td>\n",
       "      <td>0</td>\n",
       "      <td>21984.47061</td>\n",
       "    </tr>\n",
       "    <tr>\n",
       "      <th>4</th>\n",
       "      <td>32</td>\n",
       "      <td>0</td>\n",
       "      <td>28.880</td>\n",
       "      <td>0</td>\n",
       "      <td>0</td>\n",
       "      <td>0</td>\n",
       "      <td>3866.85520</td>\n",
       "    </tr>\n",
       "  </tbody>\n",
       "</table>\n",
       "</div>"
      ],
      "text/plain": [
       "   age  sex     bmi  children  smoker  region      charges\n",
       "0   19    1  27.900         0       1       3  16884.92400\n",
       "1   18    0  33.770         1       0       2   1725.55230\n",
       "2   28    0  33.000         3       0       2   4449.46200\n",
       "3   33    0  22.705         0       0       0  21984.47061\n",
       "4   32    0  28.880         0       0       0   3866.85520"
      ]
     },
     "execution_count": 281,
     "metadata": {},
     "output_type": "execute_result"
    }
   ],
   "source": [
    "data.head()"
   ]
  },
  {
   "cell_type": "markdown",
   "id": "ba2aca51-6e02-4701-8490-8f0d8b205e9a",
   "metadata": {},
   "source": [
    "### Checking Outliers"
   ]
  },
  {
   "cell_type": "code",
   "execution_count": 282,
   "id": "dad95366-0158-430b-b95c-cdd2e63799ef",
   "metadata": {},
   "outputs": [
    {
     "data": {
      "text/plain": [
       "<Axes: ylabel='age'>"
      ]
     },
     "execution_count": 282,
     "metadata": {},
     "output_type": "execute_result"
    },
    {
     "data": {
      "image/png": "[encoded data removed]",
      "text/plain": [
       "<Figure size 640x480 with 1 Axes>"
      ]
     },
     "metadata": {},
     "output_type": "display_data"
    }
   ],
   "source": [
    "sns.boxplot(data['age'])"
   ]
  },
  {
   "cell_type": "code",
   "execution_count": 283,
   "id": "7d8c0a7c-8bc2-44e6-ab80-157435489fa6",
   "metadata": {},
   "outputs": [
    {
     "data": {
      "text/plain": [
       "<Axes: ylabel='bmi'>"
      ]
     },
     "execution_count": 283,
     "metadata": {},
     "output_type": "execute_result"
    },
    {
     "data": {
      "image/png": "[encoded data removed]",
      "text/plain": [
       "<Figure size 640x480 with 1 Axes>"
      ]
     },
     "metadata": {},
     "output_type": "display_data"
    }
   ],
   "source": [
    "sns.boxplot(data['bmi'])"
   ]
  },
  {
   "cell_type": "code",
   "execution_count": 284,
   "id": "ecc14853-fa81-4b5b-9c54-772697380a34",
   "metadata": {},
   "outputs": [
    {
     "name": "stdout",
     "output_type": "stream",
     "text": [
      "13.674999999999994\n",
      "47.31500000000001\n"
     ]
    }
   ],
   "source": [
    "Q1=df['bmi'].quantile(0.25)\n",
    "Q2=df['bmi'].quantile(0.5)\n",
    "Q3=df['bmi'].quantile(0.75)\n",
    "iqr=Q3-Q1\n",
    "lowlim=Q1-1.5*iqr\n",
    "upplim=Q3+1.5*iqr\n",
    "print(lowlim)\n",
    "print(upplim)"
   ]
  },
  {
   "cell_type": "code",
   "execution_count": 285,
   "id": "e0cc88c2-bbfc-4e0d-b249-a27d19884709",
   "metadata": {},
   "outputs": [],
   "source": [
    "data['bmi']=np.where(data['bmi']>47.31,data['bmi'].median(),data['bmi'])"
   ]
  },
  {
   "cell_type": "code",
   "execution_count": 286,
   "id": "1536b454-6665-49f5-a56a-5932eee405b3",
   "metadata": {},
   "outputs": [
    {
     "data": {
      "text/plain": [
       "<Axes: xlabel='bmi'>"
      ]
     },
     "execution_count": 286,
     "metadata": {},
     "output_type": "execute_result"
    },
    {
     "data": {
      "image/png": "[encoded data removed]",
      "text/plain": [
       "<Figure size 1000x300 with 1 Axes>"
      ]
     },
     "metadata": {},
     "output_type": "display_data"
    }
   ],
   "source": [
    "plt.figure(figsize=(10,3))\n",
    "sns.boxplot(x=data['bmi'])"
   ]
  },
  {
   "cell_type": "code",
   "execution_count": 287,
   "id": "7ff865a4-e62d-48ba-8f52-a89152964053",
   "metadata": {},
   "outputs": [],
   "source": [
    "# Almost outliers have removed from BMI column"
   ]
  },
  {
   "cell_type": "code",
   "execution_count": 288,
   "id": "31e1409c-400d-4fc4-b105-d50a0b1a0f98",
   "metadata": {
    "scrolled": true
   },
   "outputs": [
    {
     "data": {
      "text/plain": [
       "<Axes: ylabel='charges'>"
      ]
     },
     "execution_count": 288,
     "metadata": {},
     "output_type": "execute_result"
    },
    {
     "data": {
      "image/png": "[encoded data removed]",
      "text/plain": [
       "<Figure size 640x480 with 1 Axes>"
      ]
     },
     "metadata": {},
     "output_type": "display_data"
    }
   ],
   "source": [
    "sns.boxplot(data['charges'])"
   ]
  },
  {
   "cell_type": "markdown",
   "id": "b8619dd4-0727-438c-bd22-85a2b3af71eb",
   "metadata": {},
   "source": [
    "**THERE ARE SOME OUTLIERS IN TARGET COLUMN BUT WE ARE NOT REMOVING THEM BECAUSE WE CAN NOT SAY THAT THE VALUES ARE OUTLIERS AS THERE MIGHT BE IN CASES IN WHICH CHARGER FOR MEDICAL INSURANCE IS MANDATORY OR LESS**!"
   ]
  },
  {
   "cell_type": "markdown",
   "id": "2e144075-ecf7-48c1-94c7-0b6566eec47f",
   "metadata": {},
   "source": [
    "## Feature Selection"
   ]
  },
  {
   "cell_type": "code",
   "execution_count": 289,
   "id": "e803b954-2273-430c-a8c7-0fb54452c03d",
   "metadata": {},
   "outputs": [],
   "source": [
    "# CHECK THE CORRELATION"
   ]
  },
  {
   "cell_type": "code",
   "execution_count": 290,
   "id": "4b04b254-0f25-42d9-babc-f052c720eb6e",
   "metadata": {},
   "outputs": [
    {
     "data": {
      "text/html": [
       "<div>\n",
       "<style scoped>\n",
       "    .dataframe tbody tr th:only-of-type {\n",
       "        vertical-align: middle;\n",
       "    }\n",
       "\n",
       "    .dataframe tbody tr th {\n",
       "        vertical-align: top;\n",
       "    }\n",
       "\n",
       "    .dataframe thead th {\n",
       "        text-align: right;\n",
       "    }\n",
       "</style>\n",
       "<table border=\"1\" class=\"dataframe\">\n",
       "  <thead>\n",
       "    <tr style=\"text-align: right;\">\n",
       "      <th></th>\n",
       "      <th>age</th>\n",
       "      <th>sex</th>\n",
       "      <th>bmi</th>\n",
       "      <th>children</th>\n",
       "      <th>smoker</th>\n",
       "      <th>region</th>\n",
       "      <th>charges</th>\n",
       "    </tr>\n",
       "  </thead>\n",
       "  <tbody>\n",
       "    <tr>\n",
       "      <th>age</th>\n",
       "      <td>1.000000</td>\n",
       "      <td>0.019814</td>\n",
       "      <td>0.114375</td>\n",
       "      <td>0.041536</td>\n",
       "      <td>-0.025587</td>\n",
       "      <td>0.001771</td>\n",
       "      <td>0.298308</td>\n",
       "    </tr>\n",
       "    <tr>\n",
       "      <th>sex</th>\n",
       "      <td>0.019814</td>\n",
       "      <td>1.000000</td>\n",
       "      <td>-0.039781</td>\n",
       "      <td>-0.017848</td>\n",
       "      <td>-0.076596</td>\n",
       "      <td>-0.008998</td>\n",
       "      <td>-0.058044</td>\n",
       "    </tr>\n",
       "    <tr>\n",
       "      <th>bmi</th>\n",
       "      <td>0.114375</td>\n",
       "      <td>-0.039781</td>\n",
       "      <td>1.000000</td>\n",
       "      <td>0.017369</td>\n",
       "      <td>-0.002903</td>\n",
       "      <td>0.152670</td>\n",
       "      <td>0.190713</td>\n",
       "    </tr>\n",
       "    <tr>\n",
       "      <th>children</th>\n",
       "      <td>0.041536</td>\n",
       "      <td>-0.017848</td>\n",
       "      <td>0.017369</td>\n",
       "      <td>1.000000</td>\n",
       "      <td>0.007331</td>\n",
       "      <td>-0.002842</td>\n",
       "      <td>0.067389</td>\n",
       "    </tr>\n",
       "    <tr>\n",
       "      <th>smoker</th>\n",
       "      <td>-0.025587</td>\n",
       "      <td>-0.076596</td>\n",
       "      <td>-0.002903</td>\n",
       "      <td>0.007331</td>\n",
       "      <td>1.000000</td>\n",
       "      <td>0.012736</td>\n",
       "      <td>0.787234</td>\n",
       "    </tr>\n",
       "    <tr>\n",
       "      <th>region</th>\n",
       "      <td>0.001771</td>\n",
       "      <td>-0.008998</td>\n",
       "      <td>0.152670</td>\n",
       "      <td>-0.002842</td>\n",
       "      <td>0.012736</td>\n",
       "      <td>1.000000</td>\n",
       "      <td>0.010767</td>\n",
       "    </tr>\n",
       "    <tr>\n",
       "      <th>charges</th>\n",
       "      <td>0.298308</td>\n",
       "      <td>-0.058044</td>\n",
       "      <td>0.190713</td>\n",
       "      <td>0.067389</td>\n",
       "      <td>0.787234</td>\n",
       "      <td>0.010767</td>\n",
       "      <td>1.000000</td>\n",
       "    </tr>\n",
       "  </tbody>\n",
       "</table>\n",
       "</div>"
      ],
      "text/plain": [
       "               age       sex       bmi  children    smoker    region   charges\n",
       "age       1.000000  0.019814  0.114375  0.041536 -0.025587  0.001771  0.298308\n",
       "sex       0.019814  1.000000 -0.039781 -0.017848 -0.076596 -0.008998 -0.058044\n",
       "bmi       0.114375 -0.039781  1.000000  0.017369 -0.002903  0.152670  0.190713\n",
       "children  0.041536 -0.017848  0.017369  1.000000  0.007331 -0.002842  0.067389\n",
       "smoker   -0.025587 -0.076596 -0.002903  0.007331  1.000000  0.012736  0.787234\n",
       "region    0.001771 -0.008998  0.152670 -0.002842  0.012736  1.000000  0.010767\n",
       "charges   0.298308 -0.058044  0.190713  0.067389  0.787234  0.010767  1.000000"
      ]
     },
     "execution_count": 290,
     "metadata": {},
     "output_type": "execute_result"
    }
   ],
   "source": [
    "data.corr()"
   ]
  },
  {
   "cell_type": "code",
   "execution_count": 291,
   "id": "c579794d-8700-472f-8c3b-fe41320b6746",
   "metadata": {},
   "outputs": [
    {
     "data": {
      "image/png": "[encoded data removed]",
      "text/plain": [
       "<Figure size 1000x800 with 2 Axes>"
      ]
     },
     "metadata": {},
     "output_type": "display_data"
    }
   ],
   "source": [
    "corr = data.corr()\n",
    "fig, ax = plt.subplots(figsize=(10,8))\n",
    "sns.heatmap(corr,cmap='BuPu',annot=True,fmt=\".2f\",ax=ax)\n",
    "plt.title(\"Dependencies of Medical Charges\")\n",
    "plt.show()"
   ]
  },
  {
   "cell_type": "code",
   "execution_count": 292,
   "id": "d87e7f23-2c27-4579-a1c9-c6011da78145",
   "metadata": {},
   "outputs": [],
   "source": [
    "# SMOKER COLUMN ARE HIGHLY CORRELATED ,SO IT MEANS IT IS MOST IMPORTANT FEATURE THAT DETERMINE CHARGES"
   ]
  },
  {
   "cell_type": "markdown",
   "id": "405ececf-ccdf-4054-808e-b42058d0f62f",
   "metadata": {},
   "source": [
    "## Model Creation"
   ]
  },
  {
   "cell_type": "code",
   "execution_count": 293,
   "id": "e25d2811-2f55-4621-ad2f-c534b291e44f",
   "metadata": {},
   "outputs": [],
   "source": [
    "x=data.drop(['charges'],axis=1)\n",
    "y=data[['charges']]"
   ]
  },
  {
   "cell_type": "code",
   "execution_count": 294,
   "id": "e61ccca0-e395-4118-be60-f96deb27a844",
   "metadata": {},
   "outputs": [
    {
     "data": {
      "text/html": [
       "<div>\n",
       "<style scoped>\n",
       "    .dataframe tbody tr th:only-of-type {\n",
       "        vertical-align: middle;\n",
       "    }\n",
       "\n",
       "    .dataframe tbody tr th {\n",
       "        vertical-align: top;\n",
       "    }\n",
       "\n",
       "    .dataframe thead th {\n",
       "        text-align: right;\n",
       "    }\n",
       "</style>\n",
       "<table border=\"1\" class=\"dataframe\">\n",
       "  <thead>\n",
       "    <tr style=\"text-align: right;\">\n",
       "      <th></th>\n",
       "      <th>age</th>\n",
       "      <th>sex</th>\n",
       "      <th>bmi</th>\n",
       "      <th>children</th>\n",
       "      <th>smoker</th>\n",
       "      <th>region</th>\n",
       "    </tr>\n",
       "  </thead>\n",
       "  <tbody>\n",
       "    <tr>\n",
       "      <th>0</th>\n",
       "      <td>19</td>\n",
       "      <td>1</td>\n",
       "      <td>27.900</td>\n",
       "      <td>0</td>\n",
       "      <td>1</td>\n",
       "      <td>3</td>\n",
       "    </tr>\n",
       "    <tr>\n",
       "      <th>1</th>\n",
       "      <td>18</td>\n",
       "      <td>0</td>\n",
       "      <td>33.770</td>\n",
       "      <td>1</td>\n",
       "      <td>0</td>\n",
       "      <td>2</td>\n",
       "    </tr>\n",
       "    <tr>\n",
       "      <th>2</th>\n",
       "      <td>28</td>\n",
       "      <td>0</td>\n",
       "      <td>33.000</td>\n",
       "      <td>3</td>\n",
       "      <td>0</td>\n",
       "      <td>2</td>\n",
       "    </tr>\n",
       "    <tr>\n",
       "      <th>3</th>\n",
       "      <td>33</td>\n",
       "      <td>0</td>\n",
       "      <td>22.705</td>\n",
       "      <td>0</td>\n",
       "      <td>0</td>\n",
       "      <td>0</td>\n",
       "    </tr>\n",
       "  </tbody>\n",
       "</table>\n",
       "</div>"
      ],
      "text/plain": [
       "   age  sex     bmi  children  smoker  region\n",
       "0   19    1  27.900         0       1       3\n",
       "1   18    0  33.770         1       0       2\n",
       "2   28    0  33.000         3       0       2\n",
       "3   33    0  22.705         0       0       0"
      ]
     },
     "execution_count": 294,
     "metadata": {},
     "output_type": "execute_result"
    }
   ],
   "source": [
    "x.head(4)"
   ]
  },
  {
   "cell_type": "code",
   "execution_count": 295,
   "id": "12f0e212-fb91-4117-b982-d63325a2a033",
   "metadata": {},
   "outputs": [
    {
     "data": {
      "text/html": [
       "<div>\n",
       "<style scoped>\n",
       "    .dataframe tbody tr th:only-of-type {\n",
       "        vertical-align: middle;\n",
       "    }\n",
       "\n",
       "    .dataframe tbody tr th {\n",
       "        vertical-align: top;\n",
       "    }\n",
       "\n",
       "    .dataframe thead th {\n",
       "        text-align: right;\n",
       "    }\n",
       "</style>\n",
       "<table border=\"1\" class=\"dataframe\">\n",
       "  <thead>\n",
       "    <tr style=\"text-align: right;\">\n",
       "      <th></th>\n",
       "      <th>charges</th>\n",
       "    </tr>\n",
       "  </thead>\n",
       "  <tbody>\n",
       "    <tr>\n",
       "      <th>0</th>\n",
       "      <td>16884.92400</td>\n",
       "    </tr>\n",
       "    <tr>\n",
       "      <th>1</th>\n",
       "      <td>1725.55230</td>\n",
       "    </tr>\n",
       "    <tr>\n",
       "      <th>2</th>\n",
       "      <td>4449.46200</td>\n",
       "    </tr>\n",
       "    <tr>\n",
       "      <th>3</th>\n",
       "      <td>21984.47061</td>\n",
       "    </tr>\n",
       "  </tbody>\n",
       "</table>\n",
       "</div>"
      ],
      "text/plain": [
       "       charges\n",
       "0  16884.92400\n",
       "1   1725.55230\n",
       "2   4449.46200\n",
       "3  21984.47061"
      ]
     },
     "execution_count": 295,
     "metadata": {},
     "output_type": "execute_result"
    }
   ],
   "source": [
    "y.head(4)"
   ]
  },
  {
   "cell_type": "code",
   "execution_count": 296,
   "id": "faac8f9e-87e3-4296-a688-7b5752461d9c",
   "metadata": {},
   "outputs": [
    {
     "name": "stdout",
     "output_type": "stream",
     "text": [
      "Shape of x= (1337, 6)\n",
      "Shape of y= (1337, 1)\n"
     ]
    }
   ],
   "source": [
    "print(\"Shape of x=\",x.shape)\n",
    "print(\"Shape of y=\",y.shape)"
   ]
  },
  {
   "cell_type": "code",
   "execution_count": 297,
   "id": "632e5449-bac1-4772-b33d-a16b40ebf1c9",
   "metadata": {},
   "outputs": [],
   "source": [
    "from sklearn.model_selection import train_test_split\n",
    "x_train,x_test,y_train,y_test=train_test_split(x,y,test_size=0.2,random_state=42)"
   ]
  },
  {
   "cell_type": "code",
   "execution_count": 298,
   "id": "06398fa0-6a64-4a00-85f4-c7b108618f3e",
   "metadata": {},
   "outputs": [
    {
     "name": "stdout",
     "output_type": "stream",
     "text": [
      "Shape of X_train= (1069, 6)\n",
      "Shape of X_test= (268, 6)\n",
      "Shape of y_train= (1069, 1)\n",
      "Shape of y_test= (268, 1)\n"
     ]
    }
   ],
   "source": [
    "print(\"Shape of X_train=\",x_train.shape)\n",
    "print(\"Shape of X_test=\",x_test.shape)\n",
    "print(\"Shape of y_train=\",y_train.shape)\n",
    "print(\"Shape of y_test=\",y_test.shape)"
   ]
  },
  {
   "cell_type": "code",
   "execution_count": 299,
   "id": "e29ca45e-bf4a-496f-9717-8772c038d1c9",
   "metadata": {},
   "outputs": [],
   "source": [
    "from sklearn.preprocessing import StandardScaler\n",
    "sc=StandardScaler()"
   ]
  },
  {
   "cell_type": "code",
   "execution_count": 300,
   "id": "5b745c86-33b5-4010-84f3-ff39b435aff4",
   "metadata": {},
   "outputs": [],
   "source": [
    "x_train = pd.DataFrame(sc.fit_transform(x_train),columns=x_train.columns)\n",
    "x_test = pd.DataFrame(sc.transform(x_test),columns=x_test.columns)"
   ]
  },
  {
   "cell_type": "code",
   "execution_count": 301,
   "id": "76d1860f-2f8a-47f5-b34c-e4d4decf1c11",
   "metadata": {},
   "outputs": [
    {
     "data": {
      "text/html": [
       "<div>\n",
       "<style scoped>\n",
       "    .dataframe tbody tr th:only-of-type {\n",
       "        vertical-align: middle;\n",
       "    }\n",
       "\n",
       "    .dataframe tbody tr th {\n",
       "        vertical-align: top;\n",
       "    }\n",
       "\n",
       "    .dataframe thead th {\n",
       "        text-align: right;\n",
       "    }\n",
       "</style>\n",
       "<table border=\"1\" class=\"dataframe\">\n",
       "  <thead>\n",
       "    <tr style=\"text-align: right;\">\n",
       "      <th></th>\n",
       "      <th>age</th>\n",
       "      <th>sex</th>\n",
       "      <th>bmi</th>\n",
       "      <th>children</th>\n",
       "      <th>smoker</th>\n",
       "      <th>region</th>\n",
       "    </tr>\n",
       "  </thead>\n",
       "  <tbody>\n",
       "    <tr>\n",
       "      <th>0</th>\n",
       "      <td>-1.157680</td>\n",
       "      <td>-0.971409</td>\n",
       "      <td>-1.009192</td>\n",
       "      <td>-0.907908</td>\n",
       "      <td>-0.500292</td>\n",
       "      <td>-0.464665</td>\n",
       "    </tr>\n",
       "    <tr>\n",
       "      <th>1</th>\n",
       "      <td>-1.300619</td>\n",
       "      <td>-0.971409</td>\n",
       "      <td>-0.798661</td>\n",
       "      <td>0.766904</td>\n",
       "      <td>-0.500292</td>\n",
       "      <td>-0.464665</td>\n",
       "    </tr>\n",
       "    <tr>\n",
       "      <th>2</th>\n",
       "      <td>0.914926</td>\n",
       "      <td>1.029432</td>\n",
       "      <td>1.209484</td>\n",
       "      <td>0.766904</td>\n",
       "      <td>-0.500292</td>\n",
       "      <td>-1.362905</td>\n",
       "    </tr>\n",
       "    <tr>\n",
       "      <th>3</th>\n",
       "      <td>1.701087</td>\n",
       "      <td>-0.971409</td>\n",
       "      <td>1.881991</td>\n",
       "      <td>-0.907908</td>\n",
       "      <td>-0.500292</td>\n",
       "      <td>0.433575</td>\n",
       "    </tr>\n",
       "    <tr>\n",
       "      <th>4</th>\n",
       "      <td>0.557580</td>\n",
       "      <td>1.029432</td>\n",
       "      <td>-0.652909</td>\n",
       "      <td>0.766904</td>\n",
       "      <td>-0.500292</td>\n",
       "      <td>-0.464665</td>\n",
       "    </tr>\n",
       "    <tr>\n",
       "      <th>...</th>\n",
       "      <td>...</td>\n",
       "      <td>...</td>\n",
       "      <td>...</td>\n",
       "      <td>...</td>\n",
       "      <td>...</td>\n",
       "      <td>...</td>\n",
       "    </tr>\n",
       "    <tr>\n",
       "      <th>1064</th>\n",
       "      <td>0.843457</td>\n",
       "      <td>1.029432</td>\n",
       "      <td>0.772227</td>\n",
       "      <td>0.766904</td>\n",
       "      <td>1.998831</td>\n",
       "      <td>-0.464665</td>\n",
       "    </tr>\n",
       "    <tr>\n",
       "      <th>1065</th>\n",
       "      <td>-0.871804</td>\n",
       "      <td>-0.971409</td>\n",
       "      <td>2.637177</td>\n",
       "      <td>0.766904</td>\n",
       "      <td>-0.500292</td>\n",
       "      <td>1.331815</td>\n",
       "    </tr>\n",
       "    <tr>\n",
       "      <th>1066</th>\n",
       "      <td>-1.372088</td>\n",
       "      <td>-0.971409</td>\n",
       "      <td>-1.437074</td>\n",
       "      <td>-0.070502</td>\n",
       "      <td>-0.500292</td>\n",
       "      <td>1.331815</td>\n",
       "    </tr>\n",
       "    <tr>\n",
       "      <th>1067</th>\n",
       "      <td>-0.085643</td>\n",
       "      <td>1.029432</td>\n",
       "      <td>-0.414249</td>\n",
       "      <td>1.604310</td>\n",
       "      <td>-0.500292</td>\n",
       "      <td>1.331815</td>\n",
       "    </tr>\n",
       "    <tr>\n",
       "      <th>1068</th>\n",
       "      <td>-0.300050</td>\n",
       "      <td>1.029432</td>\n",
       "      <td>0.925651</td>\n",
       "      <td>0.766904</td>\n",
       "      <td>-0.500292</td>\n",
       "      <td>0.433575</td>\n",
       "    </tr>\n",
       "  </tbody>\n",
       "</table>\n",
       "<p>1069 rows × 6 columns</p>\n",
       "</div>"
      ],
      "text/plain": [
       "           age       sex       bmi  children    smoker    region\n",
       "0    -1.157680 -0.971409 -1.009192 -0.907908 -0.500292 -0.464665\n",
       "1    -1.300619 -0.971409 -0.798661  0.766904 -0.500292 -0.464665\n",
       "2     0.914926  1.029432  1.209484  0.766904 -0.500292 -1.362905\n",
       "3     1.701087 -0.971409  1.881991 -0.907908 -0.500292  0.433575\n",
       "4     0.557580  1.029432 -0.652909  0.766904 -0.500292 -0.464665\n",
       "...        ...       ...       ...       ...       ...       ...\n",
       "1064  0.843457  1.029432  0.772227  0.766904  1.998831 -0.464665\n",
       "1065 -0.871804 -0.971409  2.637177  0.766904 -0.500292  1.331815\n",
       "1066 -1.372088 -0.971409 -1.437074 -0.070502 -0.500292  1.331815\n",
       "1067 -0.085643  1.029432 -0.414249  1.604310 -0.500292  1.331815\n",
       "1068 -0.300050  1.029432  0.925651  0.766904 -0.500292  0.433575\n",
       "\n",
       "[1069 rows x 6 columns]"
      ]
     },
     "execution_count": 301,
     "metadata": {},
     "output_type": "execute_result"
    }
   ],
   "source": [
    "x_train"
   ]
  },
  {
   "cell_type": "code",
   "execution_count": 302,
   "id": "acfef3bc-67fa-48b7-86f4-11313a701f2c",
   "metadata": {},
   "outputs": [
    {
     "data": {
      "text/html": [
       "<div>\n",
       "<style scoped>\n",
       "    .dataframe tbody tr th:only-of-type {\n",
       "        vertical-align: middle;\n",
       "    }\n",
       "\n",
       "    .dataframe tbody tr th {\n",
       "        vertical-align: top;\n",
       "    }\n",
       "\n",
       "    .dataframe thead th {\n",
       "        text-align: right;\n",
       "    }\n",
       "</style>\n",
       "<table border=\"1\" class=\"dataframe\">\n",
       "  <thead>\n",
       "    <tr style=\"text-align: right;\">\n",
       "      <th></th>\n",
       "      <th>age</th>\n",
       "      <th>sex</th>\n",
       "      <th>bmi</th>\n",
       "      <th>children</th>\n",
       "      <th>smoker</th>\n",
       "      <th>region</th>\n",
       "    </tr>\n",
       "  </thead>\n",
       "  <tbody>\n",
       "    <tr>\n",
       "      <th>0</th>\n",
       "      <td>0.700518</td>\n",
       "      <td>-0.971409</td>\n",
       "      <td>-1.349281</td>\n",
       "      <td>-0.907908</td>\n",
       "      <td>-0.500292</td>\n",
       "      <td>-0.464665</td>\n",
       "    </tr>\n",
       "    <tr>\n",
       "      <th>1</th>\n",
       "      <td>-0.728865</td>\n",
       "      <td>1.029432</td>\n",
       "      <td>-0.823379</td>\n",
       "      <td>2.441716</td>\n",
       "      <td>-0.500292</td>\n",
       "      <td>1.331815</td>\n",
       "    </tr>\n",
       "    <tr>\n",
       "      <th>2</th>\n",
       "      <td>0.843457</td>\n",
       "      <td>1.029432</td>\n",
       "      <td>1.015148</td>\n",
       "      <td>1.604310</td>\n",
       "      <td>-0.500292</td>\n",
       "      <td>-1.362905</td>\n",
       "    </tr>\n",
       "    <tr>\n",
       "      <th>3</th>\n",
       "      <td>-0.585927</td>\n",
       "      <td>-0.971409</td>\n",
       "      <td>0.675059</td>\n",
       "      <td>1.604310</td>\n",
       "      <td>1.998831</td>\n",
       "      <td>-1.362905</td>\n",
       "    </tr>\n",
       "    <tr>\n",
       "      <th>4</th>\n",
       "      <td>-0.585927</td>\n",
       "      <td>-0.971409</td>\n",
       "      <td>1.356942</td>\n",
       "      <td>0.766904</td>\n",
       "      <td>-0.500292</td>\n",
       "      <td>0.433575</td>\n",
       "    </tr>\n",
       "    <tr>\n",
       "      <th>...</th>\n",
       "      <td>...</td>\n",
       "      <td>...</td>\n",
       "      <td>...</td>\n",
       "      <td>...</td>\n",
       "      <td>...</td>\n",
       "      <td>...</td>\n",
       "    </tr>\n",
       "    <tr>\n",
       "      <th>263</th>\n",
       "      <td>1.772556</td>\n",
       "      <td>-0.971409</td>\n",
       "      <td>1.713225</td>\n",
       "      <td>-0.907908</td>\n",
       "      <td>-0.500292</td>\n",
       "      <td>0.433575</td>\n",
       "    </tr>\n",
       "    <tr>\n",
       "      <th>264</th>\n",
       "      <td>1.701087</td>\n",
       "      <td>1.029432</td>\n",
       "      <td>1.000658</td>\n",
       "      <td>-0.907908</td>\n",
       "      <td>-0.500292</td>\n",
       "      <td>0.433575</td>\n",
       "    </tr>\n",
       "    <tr>\n",
       "      <th>265</th>\n",
       "      <td>-1.229150</td>\n",
       "      <td>1.029432</td>\n",
       "      <td>0.707448</td>\n",
       "      <td>0.766904</td>\n",
       "      <td>-0.500292</td>\n",
       "      <td>-0.464665</td>\n",
       "    </tr>\n",
       "    <tr>\n",
       "      <th>266</th>\n",
       "      <td>1.558148</td>\n",
       "      <td>-0.971409</td>\n",
       "      <td>1.000658</td>\n",
       "      <td>-0.070502</td>\n",
       "      <td>1.998831</td>\n",
       "      <td>1.331815</td>\n",
       "    </tr>\n",
       "    <tr>\n",
       "      <th>267</th>\n",
       "      <td>0.557580</td>\n",
       "      <td>1.029432</td>\n",
       "      <td>-1.041582</td>\n",
       "      <td>-0.907908</td>\n",
       "      <td>-0.500292</td>\n",
       "      <td>-0.464665</td>\n",
       "    </tr>\n",
       "  </tbody>\n",
       "</table>\n",
       "<p>268 rows × 6 columns</p>\n",
       "</div>"
      ],
      "text/plain": [
       "          age       sex       bmi  children    smoker    region\n",
       "0    0.700518 -0.971409 -1.349281 -0.907908 -0.500292 -0.464665\n",
       "1   -0.728865  1.029432 -0.823379  2.441716 -0.500292  1.331815\n",
       "2    0.843457  1.029432  1.015148  1.604310 -0.500292 -1.362905\n",
       "3   -0.585927 -0.971409  0.675059  1.604310  1.998831 -1.362905\n",
       "4   -0.585927 -0.971409  1.356942  0.766904 -0.500292  0.433575\n",
       "..        ...       ...       ...       ...       ...       ...\n",
       "263  1.772556 -0.971409  1.713225 -0.907908 -0.500292  0.433575\n",
       "264  1.701087  1.029432  1.000658 -0.907908 -0.500292  0.433575\n",
       "265 -1.229150  1.029432  0.707448  0.766904 -0.500292 -0.464665\n",
       "266  1.558148 -0.971409  1.000658 -0.070502  1.998831  1.331815\n",
       "267  0.557580  1.029432 -1.041582 -0.907908 -0.500292 -0.464665\n",
       "\n",
       "[268 rows x 6 columns]"
      ]
     },
     "execution_count": 302,
     "metadata": {},
     "output_type": "execute_result"
    }
   ],
   "source": [
    "x_test"
   ]
  },
  {
   "cell_type": "markdown",
   "id": "d59c333f-3749-487e-b8e5-42bcd3bd9ae8",
   "metadata": {},
   "source": [
    "## Model Building"
   ]
  },
  {
   "cell_type": "code",
   "execution_count": 303,
   "id": "83e4c47c-dc29-4b9c-849a-92cbcb4d5136",
   "metadata": {},
   "outputs": [],
   "source": [
    "from sklearn.linear_model import LinearRegression\n",
    "from sklearn.ensemble import RandomForestRegressor\n",
    "from sklearn.ensemble import GradientBoostingRegressor\n",
    "from xgboost import XGBRegressor\n",
    "\n",
    "from sklearn.metrics import r2_score, mean_squared_error, accuracy_score, confusion_matrix\n",
    "from sklearn.model_selection import cross_val_score, RandomizedSearchCV, GridSearchCV"
   ]
  },
  {
   "cell_type": "markdown",
   "id": "d66227fa-0a6f-41aa-badd-f907659feb18",
   "metadata": {},
   "source": [
    "### 1. LINEAR REGRESSION"
   ]
  },
  {
   "cell_type": "code",
   "execution_count": 304,
   "id": "dab2f29f-a2f9-487a-8967-a1af8cc33f6b",
   "metadata": {},
   "outputs": [
    {
     "data": {
      "text/html": [
       "<style>#sk-container-id-8 {\n",
       "  /* Definition of color scheme common for light and dark mode */\n",
       "  --sklearn-color-text: black;\n",
       "  --sklearn-color-line: gray;\n",
       "  /* Definition of color scheme for unfitted estimators */\n",
       "  --sklearn-color-unfitted-level-0: #fff5e6;\n",
       "  --sklearn-color-unfitted-level-1: #f6e4d2;\n",
       "  --sklearn-color-unfitted-level-2: #ffe0b3;\n",
       "  --sklearn-color-unfitted-level-3: chocolate;\n",
       "  /* Definition of color scheme for fitted estimators */\n",
       "  --sklearn-color-fitted-level-0: #f0f8ff;\n",
       "  --sklearn-color-fitted-level-1: #d4ebff;\n",
       "  --sklearn-color-fitted-level-2: #b3dbfd;\n",
       "  --sklearn-color-fitted-level-3: cornflowerblue;\n",
       "\n",
       "  /* Specific color for light theme */\n",
       "  --sklearn-color-text-on-default-background: var(--sg-text-color, var(--theme-code-foreground, var(--jp-content-font-color1, black)));\n",
       "  --sklearn-color-background: var(--sg-background-color, var(--theme-background, var(--jp-layout-color0, white)));\n",
       "  --sklearn-color-border-box: var(--sg-text-color, var(--theme-code-foreground, var(--jp-content-font-color1, black)));\n",
       "  --sklearn-color-icon: #696969;\n",
       "\n",
       "  @media (prefers-color-scheme: dark) {\n",
       "    /* Redefinition of color scheme for dark theme */\n",
       "    --sklearn-color-text-on-default-background: var(--sg-text-color, var(--theme-code-foreground, var(--jp-content-font-color1, white)));\n",
       "    --sklearn-color-background: var(--sg-background-color, var(--theme-background, var(--jp-layout-color0, #111)));\n",
       "    --sklearn-color-border-box: var(--sg-text-color, var(--theme-code-foreground, var(--jp-content-font-color1, white)));\n",
       "    --sklearn-color-icon: #878787;\n",
       "  }\n",
       "}\n",
       "\n",
       "#sk-container-id-8 {\n",
       "  color: var(--sklearn-color-text);\n",
       "}\n",
       "\n",
       "#sk-container-id-8 pre {\n",
       "  padding: 0;\n",
       "}\n",
       "\n",
       "#sk-container-id-8 input.sk-hidden--visually {\n",
       "  border: 0;\n",
       "  clip: rect(1px 1px 1px 1px);\n",
       "  clip: rect(1px, 1px, 1px, 1px);\n",
       "  height: 1px;\n",
       "  margin: -1px;\n",
       "  overflow: hidden;\n",
       "  padding: 0;\n",
       "  position: absolute;\n",
       "  width: 1px;\n",
       "}\n",
       "\n",
       "#sk-container-id-8 div.sk-dashed-wrapped {\n",
       "  border: 1px dashed var(--sklearn-color-line);\n",
       "  margin: 0 0.4em 0.5em 0.4em;\n",
       "  box-sizing: border-box;\n",
       "  padding-bottom: 0.4em;\n",
       "  background-color: var(--sklearn-color-background);\n",
       "}\n",
       "\n",
       "#sk-container-id-8 div.sk-container {\n",
       "  /* jupyter's `normalize.less` sets `[hidden] { display: none; }`\n",
       "     but bootstrap.min.css set `[hidden] { display: none !important; }`\n",
       "     so we also need the `!important` here to be able to override the\n",
       "     default hidden behavior on the sphinx rendered scikit-learn.org.\n",
       "     See: https://github.com/scikit-learn/scikit-learn/issues/21755 */\n",
       "  display: inline-block !important;\n",
       "  position: relative;\n",
       "}\n",
       "\n",
       "#sk-container-id-8 div.sk-text-repr-fallback {\n",
       "  display: none;\n",
       "}\n",
       "\n",
       "div.sk-parallel-item,\n",
       "div.sk-serial,\n",
       "div.sk-item {\n",
       "  /* draw centered vertical line to link estimators */\n",
       "  background-image: linear-gradient(var(--sklearn-color-text-on-default-background), var(--sklearn-color-text-on-default-background));\n",
       "  background-size: 2px 100%;\n",
       "  background-repeat: no-repeat;\n",
       "  background-position: center center;\n",
       "}\n",
       "\n",
       "/* Parallel-specific style estimator block */\n",
       "\n",
       "#sk-container-id-8 div.sk-parallel-item::after {\n",
       "  content: \"\";\n",
       "  width: 100%;\n",
       "  border-bottom: 2px solid var(--sklearn-color-text-on-default-background);\n",
       "  flex-grow: 1;\n",
       "}\n",
       "\n",
       "#sk-container-id-8 div.sk-parallel {\n",
       "  display: flex;\n",
       "  align-items: stretch;\n",
       "  justify-content: center;\n",
       "  background-color: var(--sklearn-color-background);\n",
       "  position: relative;\n",
       "}\n",
       "\n",
       "#sk-container-id-8 div.sk-parallel-item {\n",
       "  display: flex;\n",
       "  flex-direction: column;\n",
       "}\n",
       "\n",
       "#sk-container-id-8 div.sk-parallel-item:first-child::after {\n",
       "  align-self: flex-end;\n",
       "  width: 50%;\n",
       "}\n",
       "\n",
       "#sk-container-id-8 div.sk-parallel-item:last-child::after {\n",
       "  align-self: flex-start;\n",
       "  width: 50%;\n",
       "}\n",
       "\n",
       "#sk-container-id-8 div.sk-parallel-item:only-child::after {\n",
       "  width: 0;\n",
       "}\n",
       "\n",
       "/* Serial-specific style estimator block */\n",
       "\n",
       "#sk-container-id-8 div.sk-serial {\n",
       "  display: flex;\n",
       "  flex-direction: column;\n",
       "  align-items: center;\n",
       "  background-color: var(--sklearn-color-background);\n",
       "  padding-right: 1em;\n",
       "  padding-left: 1em;\n",
       "}\n",
       "\n",
       "\n",
       "/* Toggleable style: style used for estimator/Pipeline/ColumnTransformer box that is\n",
       "clickable and can be expanded/collapsed.\n",
       "- Pipeline and ColumnTransformer use this feature and define the default style\n",
       "- Estimators will overwrite some part of the style using the `sk-estimator` class\n",
       "*/\n",
       "\n",
       "/* Pipeline and ColumnTransformer style (default) */\n",
       "\n",
       "#sk-container-id-8 div.sk-toggleable {\n",
       "  /* Default theme specific background. It is overwritten whether we have a\n",
       "  specific estimator or a Pipeline/ColumnTransformer */\n",
       "  background-color: var(--sklearn-color-background);\n",
       "}\n",
       "\n",
       "/* Toggleable label */\n",
       "#sk-container-id-8 label.sk-toggleable__label {\n",
       "  cursor: pointer;\n",
       "  display: block;\n",
       "  width: 100%;\n",
       "  margin-bottom: 0;\n",
       "  padding: 0.5em;\n",
       "  box-sizing: border-box;\n",
       "  text-align: center;\n",
       "}\n",
       "\n",
       "#sk-container-id-8 label.sk-toggleable__label-arrow:before {\n",
       "  /* Arrow on the left of the label */\n",
       "  content: \"▸\";\n",
       "  float: left;\n",
       "  margin-right: 0.25em;\n",
       "  color: var(--sklearn-color-icon);\n",
       "}\n",
       "\n",
       "#sk-container-id-8 label.sk-toggleable__label-arrow:hover:before {\n",
       "  color: var(--sklearn-color-text);\n",
       "}\n",
       "\n",
       "/* Toggleable content - dropdown */\n",
       "\n",
       "#sk-container-id-8 div.sk-toggleable__content {\n",
       "  max-height: 0;\n",
       "  max-width: 0;\n",
       "  overflow: hidden;\n",
       "  text-align: left;\n",
       "  /* unfitted */\n",
       "  background-color: var(--sklearn-color-unfitted-level-0);\n",
       "}\n",
       "\n",
       "#sk-container-id-8 div.sk-toggleable__content.fitted {\n",
       "  /* fitted */\n",
       "  background-color: var(--sklearn-color-fitted-level-0);\n",
       "}\n",
       "\n",
       "#sk-container-id-8 div.sk-toggleable__content pre {\n",
       "  margin: 0.2em;\n",
       "  border-radius: 0.25em;\n",
       "  color: var(--sklearn-color-text);\n",
       "  /* unfitted */\n",
       "  background-color: var(--sklearn-color-unfitted-level-0);\n",
       "}\n",
       "\n",
       "#sk-container-id-8 div.sk-toggleable__content.fitted pre {\n",
       "  /* unfitted */\n",
       "  background-color: var(--sklearn-color-fitted-level-0);\n",
       "}\n",
       "\n",
       "#sk-container-id-8 input.sk-toggleable__control:checked~div.sk-toggleable__content {\n",
       "  /* Expand drop-down */\n",
       "  max-height: 200px;\n",
       "  max-width: 100%;\n",
       "  overflow: auto;\n",
       "}\n",
       "\n",
       "#sk-container-id-8 input.sk-toggleable__control:checked~label.sk-toggleable__label-arrow:before {\n",
       "  content: \"▾\";\n",
       "}\n",
       "\n",
       "/* Pipeline/ColumnTransformer-specific style */\n",
       "\n",
       "#sk-container-id-8 div.sk-label input.sk-toggleable__control:checked~label.sk-toggleable__label {\n",
       "  color: var(--sklearn-color-text);\n",
       "  background-color: var(--sklearn-color-unfitted-level-2);\n",
       "}\n",
       "\n",
       "#sk-container-id-8 div.sk-label.fitted input.sk-toggleable__control:checked~label.sk-toggleable__label {\n",
       "  background-color: var(--sklearn-color-fitted-level-2);\n",
       "}\n",
       "\n",
       "/* Estimator-specific style */\n",
       "\n",
       "/* Colorize estimator box */\n",
       "#sk-container-id-8 div.sk-estimator input.sk-toggleable__control:checked~label.sk-toggleable__label {\n",
       "  /* unfitted */\n",
       "  background-color: var(--sklearn-color-unfitted-level-2);\n",
       "}\n",
       "\n",
       "#sk-container-id-8 div.sk-estimator.fitted input.sk-toggleable__control:checked~label.sk-toggleable__label {\n",
       "  /* fitted */\n",
       "  background-color: var(--sklearn-color-fitted-level-2);\n",
       "}\n",
       "\n",
       "#sk-container-id-8 div.sk-label label.sk-toggleable__label,\n",
       "#sk-container-id-8 div.sk-label label {\n",
       "  /* The background is the default theme color */\n",
       "  color: var(--sklearn-color-text-on-default-background);\n",
       "}\n",
       "\n",
       "/* On hover, darken the color of the background */\n",
       "#sk-container-id-8 div.sk-label:hover label.sk-toggleable__label {\n",
       "  color: var(--sklearn-color-text);\n",
       "  background-color: var(--sklearn-color-unfitted-level-2);\n",
       "}\n",
       "\n",
       "/* Label box, darken color on hover, fitted */\n",
       "#sk-container-id-8 div.sk-label.fitted:hover label.sk-toggleable__label.fitted {\n",
       "  color: var(--sklearn-color-text);\n",
       "  background-color: var(--sklearn-color-fitted-level-2);\n",
       "}\n",
       "\n",
       "/* Estimator label */\n",
       "\n",
       "#sk-container-id-8 div.sk-label label {\n",
       "  font-family: monospace;\n",
       "  font-weight: bold;\n",
       "  display: inline-block;\n",
       "  line-height: 1.2em;\n",
       "}\n",
       "\n",
       "#sk-container-id-8 div.sk-label-container {\n",
       "  text-align: center;\n",
       "}\n",
       "\n",
       "/* Estimator-specific */\n",
       "#sk-container-id-8 div.sk-estimator {\n",
       "  font-family: monospace;\n",
       "  border: 1px dotted var(--sklearn-color-border-box);\n",
       "  border-radius: 0.25em;\n",
       "  box-sizing: border-box;\n",
       "  margin-bottom: 0.5em;\n",
       "  /* unfitted */\n",
       "  background-color: var(--sklearn-color-unfitted-level-0);\n",
       "}\n",
       "\n",
       "#sk-container-id-8 div.sk-estimator.fitted {\n",
       "  /* fitted */\n",
       "  background-color: var(--sklearn-color-fitted-level-0);\n",
       "}\n",
       "\n",
       "/* on hover */\n",
       "#sk-container-id-8 div.sk-estimator:hover {\n",
       "  /* unfitted */\n",
       "  background-color: var(--sklearn-color-unfitted-level-2);\n",
       "}\n",
       "\n",
       "#sk-container-id-8 div.sk-estimator.fitted:hover {\n",
       "  /* fitted */\n",
       "  background-color: var(--sklearn-color-fitted-level-2);\n",
       "}\n",
       "\n",
       "/* Specification for estimator info (e.g. \"i\" and \"?\") */\n",
       "\n",
       "/* Common style for \"i\" and \"?\" */\n",
       "\n",
       ".sk-estimator-doc-link,\n",
       "a:link.sk-estimator-doc-link,\n",
       "a:visited.sk-estimator-doc-link {\n",
       "  float: right;\n",
       "  font-size: smaller;\n",
       "  line-height: 1em;\n",
       "  font-family: monospace;\n",
       "  background-color: var(--sklearn-color-background);\n",
       "  border-radius: 1em;\n",
       "  height: 1em;\n",
       "  width: 1em;\n",
       "  text-decoration: none !important;\n",
       "  margin-left: 1ex;\n",
       "  /* unfitted */\n",
       "  border: var(--sklearn-color-unfitted-level-1) 1pt solid;\n",
       "  color: var(--sklearn-color-unfitted-level-1);\n",
       "}\n",
       "\n",
       ".sk-estimator-doc-link.fitted,\n",
       "a:link.sk-estimator-doc-link.fitted,\n",
       "a:visited.sk-estimator-doc-link.fitted {\n",
       "  /* fitted */\n",
       "  border: var(--sklearn-color-fitted-level-1) 1pt solid;\n",
       "  color: var(--sklearn-color-fitted-level-1);\n",
       "}\n",
       "\n",
       "/* On hover */\n",
       "div.sk-estimator:hover .sk-estimator-doc-link:hover,\n",
       ".sk-estimator-doc-link:hover,\n",
       "div.sk-label-container:hover .sk-estimator-doc-link:hover,\n",
       ".sk-estimator-doc-link:hover {\n",
       "  /* unfitted */\n",
       "  background-color: var(--sklearn-color-unfitted-level-3);\n",
       "  color: var(--sklearn-color-background);\n",
       "  text-decoration: none;\n",
       "}\n",
       "\n",
       "div.sk-estimator.fitted:hover .sk-estimator-doc-link.fitted:hover,\n",
       ".sk-estimator-doc-link.fitted:hover,\n",
       "div.sk-label-container:hover .sk-estimator-doc-link.fitted:hover,\n",
       ".sk-estimator-doc-link.fitted:hover {\n",
       "  /* fitted */\n",
       "  background-color: var(--sklearn-color-fitted-level-3);\n",
       "  color: var(--sklearn-color-background);\n",
       "  text-decoration: none;\n",
       "}\n",
       "\n",
       "/* Span, style for the box shown on hovering the info icon */\n",
       ".sk-estimator-doc-link span {\n",
       "  display: none;\n",
       "  z-index: 9999;\n",
       "  position: relative;\n",
       "  font-weight: normal;\n",
       "  right: .2ex;\n",
       "  padding: .5ex;\n",
       "  margin: .5ex;\n",
       "  width: min-content;\n",
       "  min-width: 20ex;\n",
       "  max-width: 50ex;\n",
       "  color: var(--sklearn-color-text);\n",
       "  box-shadow: 2pt 2pt 4pt #999;\n",
       "  /* unfitted */\n",
       "  background: var(--sklearn-color-unfitted-level-0);\n",
       "  border: .5pt solid var(--sklearn-color-unfitted-level-3);\n",
       "}\n",
       "\n",
       ".sk-estimator-doc-link.fitted span {\n",
       "  /* fitted */\n",
       "  background: var(--sklearn-color-fitted-level-0);\n",
       "  border: var(--sklearn-color-fitted-level-3);\n",
       "}\n",
       "\n",
       ".sk-estimator-doc-link:hover span {\n",
       "  display: block;\n",
       "}\n",
       "\n",
       "/* \"?\"-specific style due to the `<a>` HTML tag */\n",
       "\n",
       "#sk-container-id-8 a.estimator_doc_link {\n",
       "  float: right;\n",
       "  font-size: 1rem;\n",
       "  line-height: 1em;\n",
       "  font-family: monospace;\n",
       "  background-color: var(--sklearn-color-background);\n",
       "  border-radius: 1rem;\n",
       "  height: 1rem;\n",
       "  width: 1rem;\n",
       "  text-decoration: none;\n",
       "  /* unfitted */\n",
       "  color: var(--sklearn-color-unfitted-level-1);\n",
       "  border: var(--sklearn-color-unfitted-level-1) 1pt solid;\n",
       "}\n",
       "\n",
       "#sk-container-id-8 a.estimator_doc_link.fitted {\n",
       "  /* fitted */\n",
       "  border: var(--sklearn-color-fitted-level-1) 1pt solid;\n",
       "  color: var(--sklearn-color-fitted-level-1);\n",
       "}\n",
       "\n",
       "/* On hover */\n",
       "#sk-container-id-8 a.estimator_doc_link:hover {\n",
       "  /* unfitted */\n",
       "  background-color: var(--sklearn-color-unfitted-level-3);\n",
       "  color: var(--sklearn-color-background);\n",
       "  text-decoration: none;\n",
       "}\n",
       "\n",
       "#sk-container-id-8 a.estimator_doc_link.fitted:hover {\n",
       "  /* fitted */\n",
       "  background-color: var(--sklearn-color-fitted-level-3);\n",
       "}\n",
       "</style><div id=\"sk-container-id-8\" class=\"sk-top-container\"><div class=\"sk-text-repr-fallback\"><pre>LinearRegression()</pre><b>In a Jupyter environment, please rerun this cell to show the HTML representation or trust the notebook. <br />On GitHub, the HTML representation is unable to render, please try loading this page with nbviewer.org.</b></div><div class=\"sk-container\" hidden><div class=\"sk-item\"><div class=\"sk-estimator fitted sk-toggleable\"><input class=\"sk-toggleable__control sk-hidden--visually\" id=\"sk-estimator-id-14\" type=\"checkbox\" checked><label for=\"sk-estimator-id-14\" class=\"sk-toggleable__label fitted sk-toggleable__label-arrow fitted\">&nbsp;&nbsp;LinearRegression<a class=\"sk-estimator-doc-link fitted\" rel=\"noreferrer\" target=\"_blank\" href=\"https://scikit-learn.org/1.4/modules/generated/sklearn.linear_model.LinearRegression.html\">?<span>Documentation for LinearRegression</span></a><span class=\"sk-estimator-doc-link fitted\">i<span>Fitted</span></span></label><div class=\"sk-toggleable__content fitted\"><pre>LinearRegression()</pre></div> </div></div></div></div>"
      ],
      "text/plain": [
       "LinearRegression()"
      ]
     },
     "execution_count": 304,
     "metadata": {},
     "output_type": "execute_result"
    }
   ],
   "source": [
    "lrmodel=LinearRegression()\n",
    "lrmodel.fit(x_train,y_train)"
   ]
  },
  {
   "cell_type": "markdown",
   "id": "176480ab-f778-4936-9c33-40d42ea21e49",
   "metadata": {},
   "source": [
    "**EVALUATION OF LINEAR REGRESSION**"
   ]
  },
  {
   "cell_type": "code",
   "execution_count": 305,
   "id": "3dee0efa-7fea-40e1-bc50-b1cab937fc5b",
   "metadata": {},
   "outputs": [
    {
     "name": "stdout",
     "output_type": "stream",
     "text": [
      "CV Linear Regression : 0.743\n",
      "R2_score (train) : 0.730\n",
      "R2_score (test) : 0.799\n"
     ]
    }
   ],
   "source": [
    "cv_lr = cross_val_score(estimator = lrmodel, X = x, y = y, cv = 10)\n",
    "\n",
    "y_pred_lr_train = lrmodel.predict(x_train)\n",
    "r2_score_lr_train = r2_score(y_train, y_pred_lr_train)\n",
    "\n",
    "y_pred_lr_test = lrmodel.predict(x_test)\n",
    "r2_score_lr_test = r2_score(y_test, y_pred_lr_test)\n",
    "\n",
    "print('CV Linear Regression : {0:.3f}'.format(cv_lr.mean()))\n",
    "print('R2_score (train) : {0:.3f}'.format(r2_score_lr_train))\n",
    "print('R2_score (test) : {0:.3f}'.format(r2_score_lr_test))"
   ]
  },
  {
   "cell_type": "markdown",
   "id": "6776c727-8858-42d3-85b4-23c2e547e850",
   "metadata": {},
   "source": [
    "**HYPERTUNING OF LINEAR REGRESSION**"
   ]
  },
  {
   "cell_type": "code",
   "execution_count": 306,
   "id": "fdac15b4-8bef-4881-88d2-c908ae6bdf16",
   "metadata": {},
   "outputs": [
    {
     "name": "stdout",
     "output_type": "stream",
     "text": [
      "R2_score (train): 0.7300191312385\n",
      "R2_score (test): 0.798883827251401\n",
      "CV Linear Regression : 0.7455964141061135\n"
     ]
    }
   ],
   "source": [
    "cv_lr= cross_val_score(estimator = lrmodel, X = x, y = y, cv = 10)\n",
    "\n",
    "y_pred_lr_train = lrmodel.predict(x_train)\n",
    "r2score_lr_train = r2_score(y_train, y_pred_lr_train)\n",
    "\n",
    "y_pred_lr_test = lrmodel.predict(x_test)\n",
    "r2score_lr_test = r2_score(y_test, y_pred_lr_test)\n",
    "\n",
    "r2score_rf_train = r2_score(y_train, y_pred_lr_train)\n",
    "r2score_rf_test = r2_score(y_test, y_pred_lr_test)\n",
    "cv_lr = cross_val_score(lrmodel,x,y,cv=5,).mean()\n",
    "\n",
    "print('R2_score (train):',r2_score(y_train,y_pred_lr_train))\n",
    "print('R2_score (test):',r2_score(y_test,y_pred_lr_test))\n",
    "print('CV Linear Regression :',cross_val_score(lrmodel,x,y,cv=5,).mean())"
   ]
  },
  {
   "cell_type": "markdown",
   "id": "ae087b32-9c72-41c9-b56e-22863d56ce9c",
   "metadata": {},
   "source": [
    "### 2. RANDOM FOREST REGRESSOR"
   ]
  },
  {
   "cell_type": "code",
   "execution_count": 307,
   "id": "7700eac2-3005-4e89-bf2a-c36b08c007c0",
   "metadata": {},
   "outputs": [],
   "source": [
    "rfmodel=RandomForestRegressor(random_state=42)\n",
    "rfmodel.fit(x_train,y_train)\n",
    "ypredtrain2=rfmodel.predict(x_train)\n",
    "ypredtest2=rfmodel.predict(x_test)"
   ]
  },
  {
   "cell_type": "markdown",
   "id": "635f1dde-3518-40fd-ae37-88751f3ef376",
   "metadata": {},
   "source": [
    "**EVALUATION OF RANDOM FOREST REGRESSION**"
   ]
  },
  {
   "cell_type": "code",
   "execution_count": 308,
   "id": "57442442-ff5d-40a5-b0ae-d73ac1269961",
   "metadata": {},
   "outputs": [
    {
     "name": "stdout",
     "output_type": "stream",
     "text": [
      "R2_score (train): 0.9739628498640922\n",
      "R2_score (test): 0.8854391386738325\n",
      "CV Random Forest Regressor : 0.8364916356297055\n"
     ]
    }
   ],
   "source": [
    "print('R2_score (train):',r2_score(y_train,ypredtrain2))\n",
    "print('R2_score (test):',r2_score(y_test,ypredtest2))\n",
    "print('CV Random Forest Regressor :',cross_val_score(rfmodel,x,y,cv=5,).mean())"
   ]
  },
  {
   "cell_type": "markdown",
   "id": "ed23caca-3742-4236-8b78-f9ae0aaf7b28",
   "metadata": {},
   "source": [
    "**HYPERTUNING OF RANDOM FOREST REGRESSION**"
   ]
  },
  {
   "cell_type": "code",
   "execution_count": 309,
   "id": "0ac0a3a6-b027-4be6-91d1-3260f81fd6a0",
   "metadata": {},
   "outputs": [
    {
     "name": "stdout",
     "output_type": "stream",
     "text": [
      "{'n_estimators': 150}\n"
     ]
    }
   ],
   "source": [
    "from sklearn.model_selection import GridSearchCV\n",
    "estimator=RandomForestRegressor(random_state=42)\n",
    "param_grid={'n_estimators':[10,40,50,98,100,120,150]}\n",
    "grid=GridSearchCV(estimator,param_grid,scoring=\"r2\",cv=5)\n",
    "grid.fit(x_train,y_train)\n",
    "print(grid.best_params_)"
   ]
  },
  {
   "cell_type": "code",
   "execution_count": 310,
   "id": "3adcd1f8-1046-48f4-9992-0b30940aaadb",
   "metadata": {},
   "outputs": [
    {
     "name": "stdout",
     "output_type": "stream",
     "text": [
      "R2_score (train): 0.9718845343149564\n",
      "R2_score (test): 0.8870205119559652\n",
      "CV Random Forest Regressor : 0.8351006684084361\n"
     ]
    }
   ],
   "source": [
    "rfmodel=RandomForestRegressor(random_state=42,n_estimators=40)\n",
    "rfmodel.fit(x_train,y_train)\n",
    "ypredtrain2=rfmodel.predict(x_train)\n",
    "ypredtest2=rfmodel.predict(x_test)\n",
    "r2score_rf_train = r2_score(y_train, ypredtrain2)\n",
    "r2score_rf_test = r2_score(y_test, ypredtest2)\n",
    "cv_rf = cross_val_score(rfmodel,x,y,cv=5,).mean()\n",
    "print('R2_score (train):',r2_score(y_train,ypredtrain2))\n",
    "print('R2_score (test):',r2_score(y_test,ypredtest2))\n",
    "print('CV Random Forest Regressor :',cross_val_score(rfmodel,x,y,cv=5,).mean())"
   ]
  },
  {
   "cell_type": "markdown",
   "id": "f895b9a6-1580-45e7-a20d-72998f3e4b15",
   "metadata": {},
   "source": [
    "### 3. GRADIENT BOOSTING REGRESSOR"
   ]
  },
  {
   "cell_type": "code",
   "execution_count": 311,
   "id": "5cb57ee7-a587-46e8-95ee-ee8a40905862",
   "metadata": {},
   "outputs": [],
   "source": [
    "gbmodel=GradientBoostingRegressor()\n",
    "gbmodel.fit(x_train,y_train)\n",
    "ypredtrain3=gbmodel.predict(x_train)\n",
    "ypredtest3=gbmodel.predict(x_test)"
   ]
  },
  {
   "cell_type": "markdown",
   "id": "dae8cc49-0626-47da-8bd2-b4af105157af",
   "metadata": {},
   "source": [
    "**EVALUATION OF GRADIENT BOOSTING REGRESSION**"
   ]
  },
  {
   "cell_type": "code",
   "execution_count": 312,
   "id": "e49671ba-96ce-43f6-8b50-cf8c33eebae5",
   "metadata": {},
   "outputs": [
    {
     "name": "stdout",
     "output_type": "stream",
     "text": [
      "R2_score (train): 0.8917620361007066\n",
      "R2_score (test): 0.8950794577052222\n",
      "CV Gradient Boosting Regressor : 0.8535001246115138\n"
     ]
    }
   ],
   "source": [
    "print('R2_score (train):',r2_score(y_train,ypredtrain3))\n",
    "print('R2_score (test):',r2_score(y_test,ypredtest3))\n",
    "print('CV Gradient Boosting Regressor :',cross_val_score(gbmodel,x,y,cv=5,).mean())"
   ]
  },
  {
   "cell_type": "markdown",
   "id": "687b1dbb-ef17-4248-9257-1e79f933ddc2",
   "metadata": {},
   "source": [
    "**HYPERTUNING OF GRADIENT BOOSTING REGRESSION**"
   ]
  },
  {
   "cell_type": "code",
   "execution_count": 313,
   "id": "79ce3327-dae1-4278-bb4c-e98807ffeb32",
   "metadata": {},
   "outputs": [
    {
     "name": "stdout",
     "output_type": "stream",
     "text": [
      "{'learning_rate': 0.2, 'n_estimators': 20}\n"
     ]
    }
   ],
   "source": [
    "from sklearn.model_selection import GridSearchCV\n",
    "estimator=GradientBoostingRegressor()\n",
    "param_grid={'n_estimators':[10,15,19,20,21,50],'learning_rate':[0.1,0.19,0.2,0.21,0.8,1]}\n",
    "grid=GridSearchCV(estimator,param_grid,scoring=\"r2\",cv=5)\n",
    "grid.fit(x_train,y_train)\n",
    "print(grid.best_params_)"
   ]
  },
  {
   "cell_type": "code",
   "execution_count": 314,
   "id": "50e79da7-0aca-4ce7-90a5-2dae4c83c1a6",
   "metadata": {},
   "outputs": [
    {
     "name": "stdout",
     "output_type": "stream",
     "text": [
      "R2_score (train): 0.8682441588065786\n",
      "R2_score (test): 0.8988822476737478\n",
      "CV Gradient Boosting Regressor : 0.859389810318846\n"
     ]
    }
   ],
   "source": [
    "gbmodel=GradientBoostingRegressor(n_estimators=19,learning_rate=0.2)\n",
    "gbmodel.fit(x_train,y_train)\n",
    "ypredtrain3=gbmodel.predict(x_train)\n",
    "ypredtest3=gbmodel.predict(x_test)\n",
    "r2score_gb_train = r2_score(y_train, ypredtrain3)\n",
    "r2score_gb_test = r2_score(y_test, ypredtest3)\n",
    "cv_gb = cross_val_score(gbmodel,x,y,cv=5,).mean()\n",
    "print('R2_score (train):',r2_score(y_train,ypredtrain3))\n",
    "print('R2_score (test):',r2_score(y_test,ypredtest3))\n",
    "print('CV Gradient Boosting Regressor :',cross_val_score(gbmodel,x,y,cv=5,).mean())"
   ]
  },
  {
   "cell_type": "markdown",
   "id": "1d55c12d-bee4-47f0-8cfe-1a4863d92fee",
   "metadata": {},
   "source": [
    "### 4. XGB REGRESSOR"
   ]
  },
  {
   "cell_type": "code",
   "execution_count": 315,
   "id": "653a4af3-6d57-4e14-a916-ddbc762dfd09",
   "metadata": {},
   "outputs": [],
   "source": [
    "xgmodel=XGBRegressor()\n",
    "xgmodel.fit(x_train,y_train)\n",
    "ypredtrain4=xgmodel.predict(x_train)\n",
    "ypredtest4=xgmodel.predict(x_test)"
   ]
  },
  {
   "cell_type": "markdown",
   "id": "8cbf86e8-0aad-4e0a-8cce-a2dbded2c2aa",
   "metadata": {},
   "source": [
    "**EVALUATION OF XGB REGRESSION**"
   ]
  },
  {
   "cell_type": "code",
   "execution_count": 316,
   "id": "53258f6b-bbd4-48ae-a229-6c8a7c03a853",
   "metadata": {},
   "outputs": [
    {
     "name": "stdout",
     "output_type": "stream",
     "text": [
      "R2_score (train): 0.9952786060343344\n",
      "R2_score (test): 0.859245723972482\n",
      "CV XGB Regressor : 0.809099901218936\n"
     ]
    }
   ],
   "source": [
    "print('R2_score (train):',r2_score(y_train,ypredtrain4))\n",
    "print('R2_score (test):',r2_score(y_test,ypredtest4))\n",
    "print('CV XGB Regressor :',cross_val_score(xgmodel,x,y,cv=5,).mean())"
   ]
  },
  {
   "cell_type": "markdown",
   "id": "0843f8e8-6112-4220-b0ce-d67355740843",
   "metadata": {},
   "source": [
    "**HYPERTUNING OF XBG REGRESSION**"
   ]
  },
  {
   "cell_type": "code",
   "execution_count": 317,
   "id": "53d6c1ab-937a-4afc-9515-5850ad500663",
   "metadata": {},
   "outputs": [
    {
     "name": "stdout",
     "output_type": "stream",
     "text": [
      "{'gamma': 0, 'max_depth': 3, 'n_estimators': 15}\n"
     ]
    }
   ],
   "source": [
    "from sklearn.model_selection import GridSearchCV\n",
    "estimator=XGBRegressor()\n",
    "param_grid={'n_estimators':[10,15,20,40,50],'max_depth':[3,4,5],'gamma':[0,0.15,0.3,0.5,1]}\n",
    "grid=GridSearchCV(estimator,param_grid,scoring=\"r2\",cv=5)\n",
    "grid.fit(x_train,y_train)\n",
    "print(grid.best_params_)"
   ]
  },
  {
   "cell_type": "code",
   "execution_count": 318,
   "id": "c50283af-ff68-4fb5-8153-9108976a5b49",
   "metadata": {},
   "outputs": [
    {
     "name": "stdout",
     "output_type": "stream",
     "text": [
      "R2_score (train): 0.8690195015478439\n",
      "R2_score (test): 0.9010992961881331\n",
      "CV XGB Regressor : 0.8606931771700694\n"
     ]
    }
   ],
   "source": [
    "xgmodel=XGBRegressor(n_estimators=15,max_depth=3,gamma=0)\n",
    "xgmodel.fit(x_train,y_train)\n",
    "ypredtrain4=xgmodel.predict(x_train)\n",
    "ypredtest4=xgmodel.predict(x_test)\n",
    "r2score_xgb_train = r2_score(y_train, ypredtrain4)\n",
    "r2score_xgb_test = r2_score(y_test, ypredtest4)\n",
    "cv_xgb = cross_val_score(xgmodel,x,y,cv=5,).mean()\n",
    "print('R2_score (train):',r2_score(y_train,ypredtrain4))\n",
    "print('R2_score (test):',r2_score(y_test,ypredtest4))\n",
    "print('CV XGB Regressor :',cross_val_score(xgmodel,x,y,cv=5,).mean())"
   ]
  },
  {
   "cell_type": "markdown",
   "id": "4a236a42-f471-4efa-96a7-95edb458ef16",
   "metadata": {},
   "source": [
    "## Conclusion"
   ]
  },
  {
   "cell_type": "code",
   "execution_count": 319,
   "id": "ff40dc53-10f4-43fe-b3c3-4e80e80c33db",
   "metadata": {},
   "outputs": [],
   "source": [
    "models = [('Linear Regression',r2score_lr_train,r2score_lr_test,cv_lr),\n",
    "          ('Random Forest Regression',r2score_rf_train,r2score_rf_test,cv_rf),\n",
    "          ('Gradient Boosting Regression',r2score_gb_train,r2score_gb_test,cv_gb),\n",
    "          ('XGB Regression',r2score_xgb_train,r2score_xgb_test,cv_xgb)   \n",
    "         ]"
   ]
  },
  {
   "cell_type": "code",
   "execution_count": 320,
   "id": "1b4f6c85-9de8-445e-be3a-3d6ca67d8e3f",
   "metadata": {},
   "outputs": [
    {
     "data": {
      "text/html": [
       "<div>\n",
       "<style scoped>\n",
       "    .dataframe tbody tr th:only-of-type {\n",
       "        vertical-align: middle;\n",
       "    }\n",
       "\n",
       "    .dataframe tbody tr th {\n",
       "        vertical-align: top;\n",
       "    }\n",
       "\n",
       "    .dataframe thead th {\n",
       "        text-align: right;\n",
       "    }\n",
       "</style>\n",
       "<table border=\"1\" class=\"dataframe\">\n",
       "  <thead>\n",
       "    <tr style=\"text-align: right;\">\n",
       "      <th></th>\n",
       "      <th>Model</th>\n",
       "      <th>R2_Score(training)</th>\n",
       "      <th>R2_Score(test)</th>\n",
       "      <th>Cross-Validation</th>\n",
       "    </tr>\n",
       "  </thead>\n",
       "  <tbody>\n",
       "    <tr>\n",
       "      <th>0</th>\n",
       "      <td>Linear Regression</td>\n",
       "      <td>0.730019</td>\n",
       "      <td>0.798884</td>\n",
       "      <td>0.745596</td>\n",
       "    </tr>\n",
       "    <tr>\n",
       "      <th>1</th>\n",
       "      <td>Random Forest Regression</td>\n",
       "      <td>0.971885</td>\n",
       "      <td>0.887021</td>\n",
       "      <td>0.835101</td>\n",
       "    </tr>\n",
       "    <tr>\n",
       "      <th>2</th>\n",
       "      <td>Gradient Boosting Regression</td>\n",
       "      <td>0.868244</td>\n",
       "      <td>0.898882</td>\n",
       "      <td>0.859390</td>\n",
       "    </tr>\n",
       "    <tr>\n",
       "      <th>3</th>\n",
       "      <td>XGB Regression</td>\n",
       "      <td>0.869020</td>\n",
       "      <td>0.901099</td>\n",
       "      <td>0.860693</td>\n",
       "    </tr>\n",
       "  </tbody>\n",
       "</table>\n",
       "</div>"
      ],
      "text/plain": [
       "                          Model  R2_Score(training)  R2_Score(test)  \\\n",
       "0             Linear Regression            0.730019        0.798884   \n",
       "1      Random Forest Regression            0.971885        0.887021   \n",
       "2  Gradient Boosting Regression            0.868244        0.898882   \n",
       "3                XGB Regression            0.869020        0.901099   \n",
       "\n",
       "   Cross-Validation  \n",
       "0          0.745596  \n",
       "1          0.835101  \n",
       "2          0.859390  \n",
       "3          0.860693  "
      ]
     },
     "execution_count": 320,
     "metadata": {},
     "output_type": "execute_result"
    }
   ],
   "source": [
    "predict = pd.DataFrame(data = models, columns=['Model', 'R2_Score(training)', 'R2_Score(test)', 'Cross-Validation'])\n",
    "predict"
   ]
  },
  {
   "cell_type": "code",
   "execution_count": 321,
   "id": "a0dd5b82-cea4-4adc-9732-3737bf920589",
   "metadata": {},
   "outputs": [
    {
     "data": {
      "image/png": "[encoded data removed]",
      "text/plain": [
       "<Figure size 1200x700 with 1 Axes>"
      ]
     },
     "metadata": {},
     "output_type": "display_data"
    }
   ],
   "source": [
    "plt.figure(figsize=(12,7))\n",
    "predict.sort_values(by=['Cross-Validation'], ascending=False, inplace=True)\n",
    "\n",
    "sns.barplot(x='Cross-Validation', y='Model',data = predict, palette='Reds')\n",
    "plt.xlabel('Cross Validation Score')\n",
    "plt.ylabel('Model')\n",
    "plt.show()"
   ]
  },
  {
   "cell_type": "markdown",
   "id": "1e3c6b3f-14c0-48e0-a32a-ececd8d0cf8a",
   "metadata": {},
   "source": [
    "### AS WE CAN SEE XGBOOST REGRESSOR GIVES BEST SCORE OF PREDICTIVE MODEL"
   ]
  },
  {
   "cell_type": "markdown",
   "id": "53920bce-9d11-4fcf-a7ee-dfea94a69092",
   "metadata": {},
   "source": [
    "## Challenges Faced with Reasons"
   ]
  },
  {
   "cell_type": "markdown",
   "id": "28f5c4f4-1a03-41ec-bb26-4a9d29f95ffd",
   "metadata": {},
   "source": [
    "### Categorical Variables:\n",
    "\n",
    "Features like Sex, Smoker and Region were categorical and required encoding for model training.\n",
    "Reason: Machine learning algorithms work with numerical data, not categorical labels, Lack of standardization in data representation.\n",
    "\n",
    "### Outliers in BMI\n"
   ]
  }
 ],
 "metadata": {
  "kernelspec": {
   "display_name": "Python [conda env:base] *",
   "language": "python",
   "name": "conda-base-py"
  },
  "language_info": {
   "codemirror_mode": {
    "name": "ipython",
    "version": 3
   },
   "file_extension": ".py",
   "mimetype": "text/x-python",
   "name": "python",
   "nbconvert_exporter": "python",
   "pygments_lexer": "ipython3",
   "version": "3.12.4"
  }
 },
 "nbformat": 4,
 "nbformat_minor": 5
}
